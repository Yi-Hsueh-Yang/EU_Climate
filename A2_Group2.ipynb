{
 "cells": [
  {
   "cell_type": "markdown",
   "metadata": {
    "id": "BpPWZqms-zl1"
   },
   "source": [
    "# Exploratory Data Analysis and Visualization Final Project - A2 Group 2 - Analysis of the EU Battle Against Climate Change\n",
    "\n",
    "Author: Abdul Rehman, Shubham Goel, Yi-Hsueh Yang\n",
    "\n",
    "Date: Dec 9, 2022"
   ]
  },
  {
   "cell_type": "code",
   "execution_count": 4,
   "metadata": {
    "colab": {
     "base_uri": "https://localhost:8080/"
    },
    "id": "JhrwkiLbjSGT",
    "outputId": "36fabbb4-70a5-46a5-a5a0-1b1b1b07486e"
   },
   "outputs": [],
   "source": [
    "#from google.colab import drive\n",
    "#drive.mount('/content/drive')"
   ]
  },
  {
   "cell_type": "markdown",
   "metadata": {
    "id": "7GEdne6mAT-m"
   },
   "source": [
    "The datasets we are using are as follows:\n",
    "\n",
    "\n",
    "1. Global Temperature Data\n",
    "2. Sea Levels Data\n",
    "3. Glacier Levels Data\n",
    "4. EU ETS Emissions Data\n",
    "5. Global Emissions Data\n",
    "\n",
    "\n",
    "We chose not to merge all the data together since the emissions data is pretty complete in which we will use mainly for our story telling. All for the temperature, sea level and glacier data, they are more of supportive datasets to create some graphs to justify the arguments we make. Therefore, data will stay seperated as there is no clear reason for us to merge.  \n",
    "\n",
    "All of our datasets are filtered with the year from 2005-2014 which is the intersaction we have for all the datasets. The following sections will detail how we used each dataset:"
   ]
  },
  {
   "cell_type": "markdown",
   "metadata": {
    "id": "FMH4SQVGqI3h"
   },
   "source": [
    "## Some Pre-work before loading datasets"
   ]
  },
  {
   "cell_type": "code",
   "execution_count": 5,
   "metadata": {
    "colab": {
     "base_uri": "https://localhost:8080/"
    },
    "id": "WkIzgcjiIX1M",
    "outputId": "cf77f60d-4f19-4f08-f863-df6772687ad7"
   },
   "outputs": [
    {
     "name": "stdout",
     "output_type": "stream",
     "text": [
      "Collecting datapackage\n",
      "  Downloading datapackage-1.15.2-py2.py3-none-any.whl (85 kB)\n",
      "\u001b[2K     \u001b[90m━━━━━━━━━━━━━━━━━━━━━━━━━━━━━━━━━━━━━━━━\u001b[0m \u001b[32m85.8/85.8 kB\u001b[0m \u001b[31m2.4 MB/s\u001b[0m eta \u001b[36m0:00:00\u001b[0m\n",
      "\u001b[?25hRequirement already satisfied: click>=6.7 in /Users/shubhamgoel/opt/anaconda3/lib/python3.9/site-packages (from datapackage) (8.0.4)\n",
      "Collecting tableschema>=1.12.1\n",
      "  Downloading tableschema-1.20.2-py2.py3-none-any.whl (68 kB)\n",
      "\u001b[2K     \u001b[90m━━━━━━━━━━━━━━━━━━━━━━━━━━━━━━━━━━━━━━━━\u001b[0m \u001b[32m68.9/68.9 kB\u001b[0m \u001b[31m2.2 MB/s\u001b[0m eta \u001b[36m0:00:00\u001b[0m\n",
      "\u001b[?25hRequirement already satisfied: chardet>=3.0 in /Users/shubhamgoel/opt/anaconda3/lib/python3.9/site-packages (from datapackage) (4.0.0)\n",
      "Requirement already satisfied: requests>=2.8 in /Users/shubhamgoel/opt/anaconda3/lib/python3.9/site-packages (from datapackage) (2.27.1)\n",
      "Requirement already satisfied: six>=1.10 in /Users/shubhamgoel/opt/anaconda3/lib/python3.9/site-packages (from datapackage) (1.16.0)\n",
      "Collecting unicodecsv>=0.14\n",
      "  Downloading unicodecsv-0.14.1.tar.gz (10 kB)\n",
      "  Preparing metadata (setup.py) ... \u001b[?25ldone\n",
      "\u001b[?25hCollecting tabulator>=1.29\n",
      "  Downloading tabulator-1.53.5-py2.py3-none-any.whl (72 kB)\n",
      "\u001b[2K     \u001b[90m━━━━━━━━━━━━━━━━━━━━━━━━━━━━━━━━━━━━━━━━\u001b[0m \u001b[32m72.1/72.1 kB\u001b[0m \u001b[31m3.2 MB/s\u001b[0m eta \u001b[36m0:00:00\u001b[0m\n",
      "\u001b[?25hCollecting jsonpointer>=1.10\n",
      "  Downloading jsonpointer-2.3-py2.py3-none-any.whl (7.8 kB)\n",
      "Requirement already satisfied: jsonschema>=2.5 in /Users/shubhamgoel/opt/anaconda3/lib/python3.9/site-packages (from datapackage) (4.4.0)\n",
      "Requirement already satisfied: attrs>=17.4.0 in /Users/shubhamgoel/opt/anaconda3/lib/python3.9/site-packages (from jsonschema>=2.5->datapackage) (21.4.0)\n",
      "Requirement already satisfied: pyrsistent!=0.17.0,!=0.17.1,!=0.17.2,>=0.14.0 in /Users/shubhamgoel/opt/anaconda3/lib/python3.9/site-packages (from jsonschema>=2.5->datapackage) (0.18.0)\n",
      "Requirement already satisfied: charset-normalizer~=2.0.0 in /Users/shubhamgoel/opt/anaconda3/lib/python3.9/site-packages (from requests>=2.8->datapackage) (2.0.4)\n",
      "Requirement already satisfied: urllib3<1.27,>=1.21.1 in /Users/shubhamgoel/opt/anaconda3/lib/python3.9/site-packages (from requests>=2.8->datapackage) (1.26.9)\n",
      "Requirement already satisfied: idna<4,>=2.5 in /Users/shubhamgoel/opt/anaconda3/lib/python3.9/site-packages (from requests>=2.8->datapackage) (3.3)\n",
      "Requirement already satisfied: certifi>=2017.4.17 in /Users/shubhamgoel/opt/anaconda3/lib/python3.9/site-packages (from requests>=2.8->datapackage) (2021.10.8)\n",
      "Collecting rfc3986>=1.1.0\n",
      "  Downloading rfc3986-2.0.0-py2.py3-none-any.whl (31 kB)\n",
      "Requirement already satisfied: python-dateutil>=2.4 in /Users/shubhamgoel/opt/anaconda3/lib/python3.9/site-packages (from tableschema>=1.12.1->datapackage) (2.8.2)\n",
      "Collecting isodate>=0.5.4\n",
      "  Downloading isodate-0.6.1-py2.py3-none-any.whl (41 kB)\n",
      "\u001b[2K     \u001b[90m━━━━━━━━━━━━━━━━━━━━━━━━━━━━━━━━━━━━━━━━\u001b[0m \u001b[32m41.7/41.7 kB\u001b[0m \u001b[31m1.5 MB/s\u001b[0m eta \u001b[36m0:00:00\u001b[0m\n",
      "\u001b[?25hCollecting cached-property>=1.5\n",
      "  Downloading cached_property-1.5.2-py2.py3-none-any.whl (7.6 kB)\n",
      "Requirement already satisfied: xlrd>=1.0 in /Users/shubhamgoel/opt/anaconda3/lib/python3.9/site-packages (from tabulator>=1.29->datapackage) (2.0.1)\n",
      "Collecting jsonlines>=1.1\n",
      "  Downloading jsonlines-3.1.0-py3-none-any.whl (8.6 kB)\n",
      "Collecting linear-tsv>=1.0\n",
      "  Downloading linear-tsv-1.1.0.tar.gz (9.6 kB)\n",
      "  Preparing metadata (setup.py) ... \u001b[?25ldone\n",
      "\u001b[?25hRequirement already satisfied: boto3>=1.9 in /Users/shubhamgoel/opt/anaconda3/lib/python3.9/site-packages (from tabulator>=1.29->datapackage) (1.21.32)\n",
      "Requirement already satisfied: sqlalchemy>=0.9.6 in /Users/shubhamgoel/opt/anaconda3/lib/python3.9/site-packages (from tabulator>=1.29->datapackage) (1.4.32)\n",
      "Requirement already satisfied: openpyxl>=2.6 in /Users/shubhamgoel/opt/anaconda3/lib/python3.9/site-packages (from tabulator>=1.29->datapackage) (3.0.9)\n",
      "Collecting ijson>=3.0.3\n",
      "  Downloading ijson-3.1.4-cp39-cp39-macosx_10_9_x86_64.whl (52 kB)\n",
      "\u001b[2K     \u001b[90m━━━━━━━━━━━━━━━━━━━━━━━━━━━━━━━━━━━━━━━━\u001b[0m \u001b[32m52.9/52.9 kB\u001b[0m \u001b[31m2.1 MB/s\u001b[0m eta \u001b[36m0:00:00\u001b[0m\n",
      "\u001b[?25hRequirement already satisfied: jmespath<2.0.0,>=0.7.1 in /Users/shubhamgoel/opt/anaconda3/lib/python3.9/site-packages (from boto3>=1.9->tabulator>=1.29->datapackage) (0.10.0)\n",
      "Requirement already satisfied: botocore<1.25.0,>=1.24.32 in /Users/shubhamgoel/opt/anaconda3/lib/python3.9/site-packages (from boto3>=1.9->tabulator>=1.29->datapackage) (1.24.32)\n",
      "Requirement already satisfied: s3transfer<0.6.0,>=0.5.0 in /Users/shubhamgoel/opt/anaconda3/lib/python3.9/site-packages (from boto3>=1.9->tabulator>=1.29->datapackage) (0.5.0)\n",
      "Requirement already satisfied: et-xmlfile in /Users/shubhamgoel/opt/anaconda3/lib/python3.9/site-packages (from openpyxl>=2.6->tabulator>=1.29->datapackage) (1.1.0)\n",
      "Requirement already satisfied: greenlet!=0.4.17 in /Users/shubhamgoel/opt/anaconda3/lib/python3.9/site-packages (from sqlalchemy>=0.9.6->tabulator>=1.29->datapackage) (1.1.1)\n",
      "Building wheels for collected packages: unicodecsv, linear-tsv\n",
      "  Building wheel for unicodecsv (setup.py) ... \u001b[?25ldone\n",
      "\u001b[?25h  Created wheel for unicodecsv: filename=unicodecsv-0.14.1-py3-none-any.whl size=10746 sha256=d3e7ed7284e6bc5e323c6394ae3275ebf7adf2ac92f0b21cfffd1b59a96cd1f1\n",
      "  Stored in directory: /Users/shubhamgoel/Library/Caches/pip/wheels/4b/0c/b1/9221993b70ec2b38619b2e33ce893d171759bccd5f5f343654\n",
      "  Building wheel for linear-tsv (setup.py) ... \u001b[?25ldone\n",
      "\u001b[?25h  Created wheel for linear-tsv: filename=linear_tsv-1.1.0-py3-none-any.whl size=7383 sha256=857b433185531281daa64779517738459e9f063476e165642ac293e8d085bdf8\n",
      "  Stored in directory: /Users/shubhamgoel/Library/Caches/pip/wheels/52/6f/30/06aa46556ff1ac4181c0ea7a682fea25b630a8fa132a09074a\n",
      "Successfully built unicodecsv linear-tsv\n",
      "Installing collected packages: unicodecsv, ijson, cached-property, rfc3986, linear-tsv, jsonpointer, jsonlines, isodate, tabulator, tableschema, datapackage\n",
      "Successfully installed cached-property-1.5.2 datapackage-1.15.2 ijson-3.1.4 isodate-0.6.1 jsonlines-3.1.0 jsonpointer-2.3 linear-tsv-1.1.0 rfc3986-2.0.0 tableschema-1.20.2 tabulator-1.53.5 unicodecsv-0.14.1\n",
      "Note: you may need to restart the kernel to use updated packages.\n"
     ]
    }
   ],
   "source": [
    "pip install datapackage"
   ]
  },
  {
   "cell_type": "code",
   "execution_count": 6,
   "metadata": {
    "colab": {
     "base_uri": "https://localhost:8080/"
    },
    "id": "PvgC_sFGImL6",
    "outputId": "c2a4d057-7ac6-434a-9528-7363c5f916c5"
   },
   "outputs": [
    {
     "name": "stdout",
     "output_type": "stream",
     "text": [
      "Requirement already satisfied: geopandas in /Users/shubhamgoel/opt/anaconda3/lib/python3.9/site-packages (0.12.1)\n",
      "Requirement already satisfied: fiona>=1.8 in /Users/shubhamgoel/opt/anaconda3/lib/python3.9/site-packages (from geopandas) (1.8.22)\n",
      "Requirement already satisfied: shapely>=1.7 in /Users/shubhamgoel/opt/anaconda3/lib/python3.9/site-packages (from geopandas) (1.8.5.post1)\n",
      "Requirement already satisfied: packaging in /Users/shubhamgoel/opt/anaconda3/lib/python3.9/site-packages (from geopandas) (21.3)\n",
      "Requirement already satisfied: pyproj>=2.6.1.post1 in /Users/shubhamgoel/opt/anaconda3/lib/python3.9/site-packages (from geopandas) (3.4.0)\n",
      "Requirement already satisfied: pandas>=1.0.0 in /Users/shubhamgoel/opt/anaconda3/lib/python3.9/site-packages (from geopandas) (1.4.2)\n",
      "Requirement already satisfied: click-plugins>=1.0 in /Users/shubhamgoel/opt/anaconda3/lib/python3.9/site-packages (from fiona>=1.8->geopandas) (1.1.1)\n",
      "Requirement already satisfied: munch in /Users/shubhamgoel/opt/anaconda3/lib/python3.9/site-packages (from fiona>=1.8->geopandas) (2.5.0)\n",
      "Requirement already satisfied: setuptools in /Users/shubhamgoel/opt/anaconda3/lib/python3.9/site-packages (from fiona>=1.8->geopandas) (65.5.1)\n",
      "Requirement already satisfied: click>=4.0 in /Users/shubhamgoel/opt/anaconda3/lib/python3.9/site-packages (from fiona>=1.8->geopandas) (8.0.4)\n",
      "Requirement already satisfied: attrs>=17 in /Users/shubhamgoel/opt/anaconda3/lib/python3.9/site-packages (from fiona>=1.8->geopandas) (21.4.0)\n",
      "Requirement already satisfied: certifi in /Users/shubhamgoel/opt/anaconda3/lib/python3.9/site-packages (from fiona>=1.8->geopandas) (2021.10.8)\n",
      "Requirement already satisfied: cligj>=0.5 in /Users/shubhamgoel/opt/anaconda3/lib/python3.9/site-packages (from fiona>=1.8->geopandas) (0.7.2)\n",
      "Requirement already satisfied: six>=1.7 in /Users/shubhamgoel/opt/anaconda3/lib/python3.9/site-packages (from fiona>=1.8->geopandas) (1.16.0)\n",
      "Requirement already satisfied: python-dateutil>=2.8.1 in /Users/shubhamgoel/opt/anaconda3/lib/python3.9/site-packages (from pandas>=1.0.0->geopandas) (2.8.2)\n",
      "Requirement already satisfied: pytz>=2020.1 in /Users/shubhamgoel/opt/anaconda3/lib/python3.9/site-packages (from pandas>=1.0.0->geopandas) (2021.3)\n",
      "Requirement already satisfied: numpy>=1.18.5 in /Users/shubhamgoel/opt/anaconda3/lib/python3.9/site-packages (from pandas>=1.0.0->geopandas) (1.21.5)\n",
      "Requirement already satisfied: pyparsing!=3.0.5,>=2.0.2 in /Users/shubhamgoel/opt/anaconda3/lib/python3.9/site-packages (from packaging->geopandas) (3.0.4)\n",
      "Note: you may need to restart the kernel to use updated packages.\n"
     ]
    }
   ],
   "source": [
    "pip install geopandas"
   ]
  },
  {
   "cell_type": "code",
   "execution_count": 7,
   "metadata": {
    "id": "mcg0F1hY-a3Y"
   },
   "outputs": [],
   "source": [
    "import pandas as pd\n",
    "import numpy as np\n",
    "import matplotlib.pyplot as plt\n",
    "import geopandas as gpd\n",
    "import seaborn as sns\n",
    "from datapackage import Package"
   ]
  },
  {
   "cell_type": "code",
   "execution_count": 8,
   "metadata": {
    "colab": {
     "base_uri": "https://localhost:8080/"
    },
    "id": "-vnXyA2uD316",
    "outputId": "c058096d-a2c2-4e64-d518-8241cb235506"
   },
   "outputs": [],
   "source": [
    "#from google.colab import drive\n",
    "#drive.mount('/content/drive',force_remount=True)"
   ]
  },
  {
   "cell_type": "markdown",
   "metadata": {
    "id": "Za74P5BWAttD"
   },
   "source": [
    "### **1. Global Temperature Data**\n",
    "Data Source: https://datahub.io/core/global-temp#python\n",
    "\n",
    "This dataset is surved as a supportive dataset to plot out the temperature changing trend from 2005-2014 to help explain the job that European countries has done in decreasing the emission over years."
   ]
  },
  {
   "cell_type": "code",
   "execution_count": 9,
   "metadata": {
    "colab": {
     "base_uri": "https://localhost:8080/"
    },
    "id": "oOj5BrSUA0IH",
    "outputId": "a76ac30f-ab9a-4742-8c52-352d0305764e"
   },
   "outputs": [
    {
     "name": "stdout",
     "output_type": "stream",
     "text": [
      "      Type        Year Temperature\n",
      "0     GCAG  2016-12-06      0.7895\n",
      "1  GISTEMP  2016-12-06        0.81\n",
      "2     GCAG  2016-11-06      0.7504\n",
      "3  GISTEMP  2016-11-06        0.93\n",
      "4     GCAG  2016-10-06      0.7292\n"
     ]
    }
   ],
   "source": [
    "# This is the download guidelines from the data source.\n",
    "package = Package('https://datahub.io/core/global-temp/datapackage.json')\n",
    "for resource in package.resources:\n",
    "    if resource.descriptor['datahub']['type'] == 'derived/csv':\n",
    "        test = resource.read()\n",
    "# Create a new dataframe to fill in all the data point we obtained from the web.\n",
    "df = pd.DataFrame(columns=['Type', 'Year', 'Temperature'])\n",
    "\n",
    "for i in range(len(test)):\n",
    "    df.loc[i,'Type'] = test[i][0]\n",
    "    df.loc[i,'Year'] = test[i][1]\n",
    "    df.loc[i,'Temperature'] = test[i][2]\n",
    "print(df.head())"
   ]
  },
  {
   "cell_type": "code",
   "execution_count": 10,
   "metadata": {
    "colab": {
     "base_uri": "https://localhost:8080/"
    },
    "id": "DOk7yySBKJrl",
    "outputId": "a0449fc2-6ccf-4950-cf83-b815408d9ef6"
   },
   "outputs": [
    {
     "data": {
      "text/plain": [
       "Type           object\n",
       "Year           object\n",
       "Temperature    object\n",
       "dtype: object"
      ]
     },
     "execution_count": 10,
     "metadata": {},
     "output_type": "execute_result"
    }
   ],
   "source": [
    "df.dtypes # We can see that we need some manipulation toward the data type of Year and Temperature."
   ]
  },
  {
   "cell_type": "code",
   "execution_count": 11,
   "metadata": {
    "id": "mc66AjmZKLjX"
   },
   "outputs": [],
   "source": [
    "# convert column 'Year' and 'Temperature' to datetime and float.\n",
    "df['Year'] = pd.to_datetime(df['Year'])\n",
    "df['Temperature'] = df['Temperature'].astype(float)"
   ]
  },
  {
   "cell_type": "code",
   "execution_count": 98,
   "metadata": {
    "id": "SH5RihppKLgg"
   },
   "outputs": [],
   "source": [
    "# filtering data from 2005 to 2014\n",
    "temp = df[df.Year.dt.year >= 2005]\n",
    "temp = temp[temp.Year.dt.year <= 2014].reset_index(drop=True)"
   ]
  },
  {
   "cell_type": "code",
   "execution_count": 99,
   "metadata": {
    "colab": {
     "base_uri": "https://localhost:8080/"
    },
    "id": "KUbrvFeRKLd-",
    "outputId": "ea2f5366-6880-4398-fe71-bc24c823a1cc"
   },
   "outputs": [
    {
     "data": {
      "text/plain": [
       "Type           0\n",
       "Year           0\n",
       "Temperature    0\n",
       "dtype: int64"
      ]
     },
     "execution_count": 99,
     "metadata": {},
     "output_type": "execute_result"
    }
   ],
   "source": [
    "# The dataset is pretty clean and has no missing value to handle.\n",
    "temp.isnull().sum()"
   ]
  },
  {
   "cell_type": "code",
   "execution_count": 100,
   "metadata": {
    "colab": {
     "base_uri": "https://localhost:8080/",
     "height": 206
    },
    "id": "AzetSr13KLa3",
    "outputId": "39d1ada1-1ecc-4ff9-d016-df272085feac"
   },
   "outputs": [
    {
     "data": {
      "text/html": [
       "<div>\n",
       "<style scoped>\n",
       "    .dataframe tbody tr th:only-of-type {\n",
       "        vertical-align: middle;\n",
       "    }\n",
       "\n",
       "    .dataframe tbody tr th {\n",
       "        vertical-align: top;\n",
       "    }\n",
       "\n",
       "    .dataframe thead th {\n",
       "        text-align: right;\n",
       "    }\n",
       "</style>\n",
       "<table border=\"1\" class=\"dataframe\">\n",
       "  <thead>\n",
       "    <tr style=\"text-align: right;\">\n",
       "      <th></th>\n",
       "      <th>Type</th>\n",
       "      <th>Year</th>\n",
       "      <th>Temperature</th>\n",
       "    </tr>\n",
       "  </thead>\n",
       "  <tbody>\n",
       "    <tr>\n",
       "      <th>0</th>\n",
       "      <td>GCAG</td>\n",
       "      <td>2014-12-06</td>\n",
       "      <td>0.8308</td>\n",
       "    </tr>\n",
       "    <tr>\n",
       "      <th>1</th>\n",
       "      <td>GISTEMP</td>\n",
       "      <td>2014-12-06</td>\n",
       "      <td>0.7900</td>\n",
       "    </tr>\n",
       "    <tr>\n",
       "      <th>2</th>\n",
       "      <td>GCAG</td>\n",
       "      <td>2014-11-06</td>\n",
       "      <td>0.6895</td>\n",
       "    </tr>\n",
       "    <tr>\n",
       "      <th>3</th>\n",
       "      <td>GISTEMP</td>\n",
       "      <td>2014-11-06</td>\n",
       "      <td>0.6700</td>\n",
       "    </tr>\n",
       "    <tr>\n",
       "      <th>4</th>\n",
       "      <td>GCAG</td>\n",
       "      <td>2014-10-06</td>\n",
       "      <td>0.7851</td>\n",
       "    </tr>\n",
       "  </tbody>\n",
       "</table>\n",
       "</div>"
      ],
      "text/plain": [
       "      Type       Year  Temperature\n",
       "0     GCAG 2014-12-06       0.8308\n",
       "1  GISTEMP 2014-12-06       0.7900\n",
       "2     GCAG 2014-11-06       0.6895\n",
       "3  GISTEMP 2014-11-06       0.6700\n",
       "4     GCAG 2014-10-06       0.7851"
      ]
     },
     "execution_count": 100,
     "metadata": {},
     "output_type": "execute_result"
    }
   ],
   "source": [
    "# Done cleaning for temperature dataset\n",
    "temp.head()"
   ]
  },
  {
   "cell_type": "code",
   "execution_count": 101,
   "metadata": {},
   "outputs": [],
   "source": [
    "Temp = temp"
   ]
  },
  {
   "cell_type": "markdown",
   "metadata": {
    "id": "zazvTa6rA15S"
   },
   "source": [
    "### **2. Sea Levels Data**"
   ]
  },
  {
   "cell_type": "code",
   "execution_count": 15,
   "metadata": {
    "id": "u5VR2jNiEOpn"
   },
   "outputs": [],
   "source": [
    "#import all the required libraries\n",
    "import pandas as pd\n",
    "import numpy as np\n",
    "import matplotlib.pyplot as plt\n",
    "import seaborn as sns"
   ]
  },
  {
   "cell_type": "code",
   "execution_count": 16,
   "metadata": {
    "colab": {
     "base_uri": "https://localhost:8080/",
     "height": 206
    },
    "id": "ScPO4zBuEVw5",
    "outputId": "bcf2e6a4-67a0-484c-db8a-f58c58f4aea3"
   },
   "outputs": [
    {
     "data": {
      "text/html": [
       "<div>\n",
       "<style scoped>\n",
       "    .dataframe tbody tr th:only-of-type {\n",
       "        vertical-align: middle;\n",
       "    }\n",
       "\n",
       "    .dataframe tbody tr th {\n",
       "        vertical-align: top;\n",
       "    }\n",
       "\n",
       "    .dataframe thead th {\n",
       "        text-align: right;\n",
       "    }\n",
       "</style>\n",
       "<table border=\"1\" class=\"dataframe\">\n",
       "  <thead>\n",
       "    <tr style=\"text-align: right;\">\n",
       "      <th></th>\n",
       "      <th>Time</th>\n",
       "      <th>GMSL</th>\n",
       "    </tr>\n",
       "  </thead>\n",
       "  <tbody>\n",
       "    <tr>\n",
       "      <th>0</th>\n",
       "      <td>1993-01-15</td>\n",
       "      <td>-1.6</td>\n",
       "    </tr>\n",
       "    <tr>\n",
       "      <th>1</th>\n",
       "      <td>1993-02-15</td>\n",
       "      <td>-3.4</td>\n",
       "    </tr>\n",
       "    <tr>\n",
       "      <th>2</th>\n",
       "      <td>1993-03-15</td>\n",
       "      <td>5.5</td>\n",
       "    </tr>\n",
       "    <tr>\n",
       "      <th>3</th>\n",
       "      <td>1993-04-15</td>\n",
       "      <td>0.1</td>\n",
       "    </tr>\n",
       "    <tr>\n",
       "      <th>4</th>\n",
       "      <td>1993-05-15</td>\n",
       "      <td>5.3</td>\n",
       "    </tr>\n",
       "  </tbody>\n",
       "</table>\n",
       "</div>"
      ],
      "text/plain": [
       "         Time  GMSL\n",
       "0  1993-01-15  -1.6\n",
       "1  1993-02-15  -3.4\n",
       "2  1993-03-15   5.5\n",
       "3  1993-04-15   0.1\n",
       "4  1993-05-15   5.3"
      ]
     },
     "execution_count": 16,
     "metadata": {},
     "output_type": "execute_result"
    }
   ],
   "source": [
    "#read the required dataset in the dataframe\n",
    "sea_level = pd.read_csv(\"/Users/shubhamgoel/Downloads/EDA Project_A2_Group2/csiro_alt_gmsl_mo_2015_csv.csv\")\n",
    "sea_level.head()"
   ]
  },
  {
   "cell_type": "code",
   "execution_count": 17,
   "metadata": {
    "colab": {
     "base_uri": "https://localhost:8080/"
    },
    "id": "Ix5d1h0IEZua",
    "outputId": "f46239d8-da01-4e7d-e665-c1a80ba4ae9e"
   },
   "outputs": [
    {
     "name": "stdout",
     "output_type": "stream",
     "text": [
      "<class 'pandas.core.frame.DataFrame'>\n",
      "RangeIndex: 266 entries, 0 to 265\n",
      "Data columns (total 2 columns):\n",
      " #   Column  Non-Null Count  Dtype  \n",
      "---  ------  --------------  -----  \n",
      " 0   Time    266 non-null    object \n",
      " 1   GMSL    266 non-null    float64\n",
      "dtypes: float64(1), object(1)\n",
      "memory usage: 4.3+ KB\n"
     ]
    }
   ],
   "source": [
    "#check what data is the dataset\n",
    "sea_level.info()"
   ]
  },
  {
   "cell_type": "code",
   "execution_count": 18,
   "metadata": {
    "id": "uA-a5OeFFFH3"
   },
   "outputs": [],
   "source": [
    "#convert the datatype of 'Time' column from object to datatime\n",
    "sea_level['Time'] = pd.to_datetime(sea_level['Time'])"
   ]
  },
  {
   "cell_type": "code",
   "execution_count": 19,
   "metadata": {
    "colab": {
     "base_uri": "https://localhost:8080/"
    },
    "id": "aZhx49acFKkq",
    "outputId": "e0aac801-7639-478f-8ae0-b13b0d4d12a4"
   },
   "outputs": [
    {
     "name": "stdout",
     "output_type": "stream",
     "text": [
      "<class 'pandas.core.frame.DataFrame'>\n",
      "RangeIndex: 266 entries, 0 to 265\n",
      "Data columns (total 2 columns):\n",
      " #   Column  Non-Null Count  Dtype         \n",
      "---  ------  --------------  -----         \n",
      " 0   Time    266 non-null    datetime64[ns]\n",
      " 1   GMSL    266 non-null    float64       \n",
      "dtypes: datetime64[ns](1), float64(1)\n",
      "memory usage: 4.3 KB\n"
     ]
    }
   ],
   "source": [
    "#verify the datatype\n",
    "sea_level.info()"
   ]
  },
  {
   "cell_type": "code",
   "execution_count": 20,
   "metadata": {
    "colab": {
     "base_uri": "https://localhost:8080/"
    },
    "id": "D4kArRC5FL5h",
    "outputId": "c996abd8-f6fd-45d7-c632-dea47aaf3b32"
   },
   "outputs": [
    {
     "data": {
      "text/plain": [
       "Time    0\n",
       "GMSL    0\n",
       "dtype: int64"
      ]
     },
     "execution_count": 20,
     "metadata": {},
     "output_type": "execute_result"
    }
   ],
   "source": [
    "#check the null values in the dataset\n",
    "sea_level.isnull().sum()"
   ]
  },
  {
   "cell_type": "code",
   "execution_count": 21,
   "metadata": {
    "colab": {
     "base_uri": "https://localhost:8080/",
     "height": 300
    },
    "id": "4r1g7n-qFP2m",
    "outputId": "24b2615f-6324-49eb-8cc7-a825d41358b1"
   },
   "outputs": [
    {
     "data": {
      "text/html": [
       "<div>\n",
       "<style scoped>\n",
       "    .dataframe tbody tr th:only-of-type {\n",
       "        vertical-align: middle;\n",
       "    }\n",
       "\n",
       "    .dataframe tbody tr th {\n",
       "        vertical-align: top;\n",
       "    }\n",
       "\n",
       "    .dataframe thead th {\n",
       "        text-align: right;\n",
       "    }\n",
       "</style>\n",
       "<table border=\"1\" class=\"dataframe\">\n",
       "  <thead>\n",
       "    <tr style=\"text-align: right;\">\n",
       "      <th></th>\n",
       "      <th>GMSL</th>\n",
       "    </tr>\n",
       "  </thead>\n",
       "  <tbody>\n",
       "    <tr>\n",
       "      <th>count</th>\n",
       "      <td>266.000000</td>\n",
       "    </tr>\n",
       "    <tr>\n",
       "      <th>mean</th>\n",
       "      <td>36.028571</td>\n",
       "    </tr>\n",
       "    <tr>\n",
       "      <th>std</th>\n",
       "      <td>20.889803</td>\n",
       "    </tr>\n",
       "    <tr>\n",
       "      <th>min</th>\n",
       "      <td>-3.500000</td>\n",
       "    </tr>\n",
       "    <tr>\n",
       "      <th>25%</th>\n",
       "      <td>20.525000</td>\n",
       "    </tr>\n",
       "    <tr>\n",
       "      <th>50%</th>\n",
       "      <td>36.700000</td>\n",
       "    </tr>\n",
       "    <tr>\n",
       "      <th>75%</th>\n",
       "      <td>52.500000</td>\n",
       "    </tr>\n",
       "    <tr>\n",
       "      <th>max</th>\n",
       "      <td>79.500000</td>\n",
       "    </tr>\n",
       "  </tbody>\n",
       "</table>\n",
       "</div>"
      ],
      "text/plain": [
       "             GMSL\n",
       "count  266.000000\n",
       "mean    36.028571\n",
       "std     20.889803\n",
       "min     -3.500000\n",
       "25%     20.525000\n",
       "50%     36.700000\n",
       "75%     52.500000\n",
       "max     79.500000"
      ]
     },
     "execution_count": 21,
     "metadata": {},
     "output_type": "execute_result"
    }
   ],
   "source": [
    "#visualise the statistics of the dataset\n",
    "sea_level.describe()"
   ]
  },
  {
   "cell_type": "code",
   "execution_count": 22,
   "metadata": {
    "colab": {
     "base_uri": "https://localhost:8080/",
     "height": 238
    },
    "id": "fYUIYep8FUD5",
    "outputId": "d9ba8016-8852-42f9-9723-1649047ef6b4"
   },
   "outputs": [
    {
     "data": {
      "text/html": [
       "<div>\n",
       "<style scoped>\n",
       "    .dataframe tbody tr th:only-of-type {\n",
       "        vertical-align: middle;\n",
       "    }\n",
       "\n",
       "    .dataframe tbody tr th {\n",
       "        vertical-align: top;\n",
       "    }\n",
       "\n",
       "    .dataframe thead th {\n",
       "        text-align: right;\n",
       "    }\n",
       "</style>\n",
       "<table border=\"1\" class=\"dataframe\">\n",
       "  <thead>\n",
       "    <tr style=\"text-align: right;\">\n",
       "      <th></th>\n",
       "      <th>GMSL</th>\n",
       "    </tr>\n",
       "    <tr>\n",
       "      <th>Time</th>\n",
       "      <th></th>\n",
       "    </tr>\n",
       "  </thead>\n",
       "  <tbody>\n",
       "    <tr>\n",
       "      <th>1993-01-15</th>\n",
       "      <td>-1.6</td>\n",
       "    </tr>\n",
       "    <tr>\n",
       "      <th>1993-02-15</th>\n",
       "      <td>-3.4</td>\n",
       "    </tr>\n",
       "    <tr>\n",
       "      <th>1993-03-15</th>\n",
       "      <td>5.5</td>\n",
       "    </tr>\n",
       "    <tr>\n",
       "      <th>1993-04-15</th>\n",
       "      <td>0.1</td>\n",
       "    </tr>\n",
       "    <tr>\n",
       "      <th>1993-05-15</th>\n",
       "      <td>5.3</td>\n",
       "    </tr>\n",
       "  </tbody>\n",
       "</table>\n",
       "</div>"
      ],
      "text/plain": [
       "            GMSL\n",
       "Time            \n",
       "1993-01-15  -1.6\n",
       "1993-02-15  -3.4\n",
       "1993-03-15   5.5\n",
       "1993-04-15   0.1\n",
       "1993-05-15   5.3"
      ]
     },
     "execution_count": 22,
     "metadata": {},
     "output_type": "execute_result"
    }
   ],
   "source": [
    "#changing the index of the dataset\n",
    "sea_level=sea_level.set_index('Time')\n",
    "sea_level.head()"
   ]
  },
  {
   "cell_type": "code",
   "execution_count": 23,
   "metadata": {
    "colab": {
     "base_uri": "https://localhost:8080/",
     "height": 338
    },
    "id": "L3cmurbAFXfc",
    "outputId": "493ec7fb-b120-4a35-8c20-e797dee48ac2"
   },
   "outputs": [
    {
     "data": {
      "text/plain": [
       "<AxesSubplot:>"
      ]
     },
     "execution_count": 23,
     "metadata": {},
     "output_type": "execute_result"
    },
    {
     "data": {
      "image/png": "[encoded data removed]",
      "text/plain": [
       "<Figure size 504x360 with 1 Axes>"
      ]
     },
     "metadata": {
      "needs_background": "light"
     },
     "output_type": "display_data"
    }
   ],
   "source": [
    "#plot the box plot of the original dataset after the no NULL values\n",
    "sea_level['GMSL'].plot(kind='box', figsize=(7,5))"
   ]
  },
  {
   "cell_type": "code",
   "execution_count": 24,
   "metadata": {
    "id": "c2B-_saMFald"
   },
   "outputs": [],
   "source": [
    "#dropping/filtering the data before 2005, to make it in sync with the datasets used for the project.\n",
    "sea_filter1 = sea_level[(sea_level.index > '2004-12-31')]"
   ]
  },
  {
   "cell_type": "code",
   "execution_count": 25,
   "metadata": {
    "id": "Ti1vM1miFg6Z"
   },
   "outputs": [],
   "source": [
    "#dropping/filtering the data after 2014, to make it in sync with the datasets used for the project.\n",
    "sea_filter2 = sea_filter1[(sea_filter1.index < '2015-01-01')]"
   ]
  },
  {
   "cell_type": "code",
   "execution_count": 26,
   "metadata": {
    "colab": {
     "base_uri": "https://localhost:8080/",
     "height": 300
    },
    "id": "BqjGafOZFkO7",
    "outputId": "f7633d00-8a49-4d98-b04c-d3786f0ba75a"
   },
   "outputs": [
    {
     "data": {
      "text/html": [
       "<div>\n",
       "<style scoped>\n",
       "    .dataframe tbody tr th:only-of-type {\n",
       "        vertical-align: middle;\n",
       "    }\n",
       "\n",
       "    .dataframe tbody tr th {\n",
       "        vertical-align: top;\n",
       "    }\n",
       "\n",
       "    .dataframe thead th {\n",
       "        text-align: right;\n",
       "    }\n",
       "</style>\n",
       "<table border=\"1\" class=\"dataframe\">\n",
       "  <thead>\n",
       "    <tr style=\"text-align: right;\">\n",
       "      <th></th>\n",
       "      <th>GMSL</th>\n",
       "    </tr>\n",
       "  </thead>\n",
       "  <tbody>\n",
       "    <tr>\n",
       "      <th>count</th>\n",
       "      <td>120.000000</td>\n",
       "    </tr>\n",
       "    <tr>\n",
       "      <th>mean</th>\n",
       "      <td>54.363333</td>\n",
       "    </tr>\n",
       "    <tr>\n",
       "      <th>std</th>\n",
       "      <td>10.494760</td>\n",
       "    </tr>\n",
       "    <tr>\n",
       "      <th>min</th>\n",
       "      <td>38.100000</td>\n",
       "    </tr>\n",
       "    <tr>\n",
       "      <th>25%</th>\n",
       "      <td>43.850000</td>\n",
       "    </tr>\n",
       "    <tr>\n",
       "      <th>50%</th>\n",
       "      <td>53.050000</td>\n",
       "    </tr>\n",
       "    <tr>\n",
       "      <th>75%</th>\n",
       "      <td>64.900000</td>\n",
       "    </tr>\n",
       "    <tr>\n",
       "      <th>max</th>\n",
       "      <td>76.000000</td>\n",
       "    </tr>\n",
       "  </tbody>\n",
       "</table>\n",
       "</div>"
      ],
      "text/plain": [
       "             GMSL\n",
       "count  120.000000\n",
       "mean    54.363333\n",
       "std     10.494760\n",
       "min     38.100000\n",
       "25%     43.850000\n",
       "50%     53.050000\n",
       "75%     64.900000\n",
       "max     76.000000"
      ]
     },
     "execution_count": 26,
     "metadata": {},
     "output_type": "execute_result"
    }
   ],
   "source": [
    "#cross check the statistics of the filtered data\n",
    "sea_filter2.describe()"
   ]
  },
  {
   "cell_type": "code",
   "execution_count": 27,
   "metadata": {
    "colab": {
     "base_uri": "https://localhost:8080/",
     "height": 352
    },
    "id": "iIpI9QcHFmkJ",
    "outputId": "a6e49728-69de-46f1-f7fc-442990496a56"
   },
   "outputs": [
    {
     "data": {
      "text/plain": [
       "<AxesSubplot:xlabel='Time'>"
      ]
     },
     "execution_count": 27,
     "metadata": {},
     "output_type": "execute_result"
    },
    {
     "data": {
      "image/png": "[encoded data removed]",
      "text/plain": [
       "<Figure size 1080x360 with 1 Axes>"
      ]
     },
     "metadata": {
      "needs_background": "light"
     },
     "output_type": "display_data"
    }
   ],
   "source": [
    "#ploting the time series graph for the filtered data\n",
    "sea_filter2.resample('Y').mean().plot(figsize=(15,5))"
   ]
  },
  {
   "cell_type": "markdown",
   "metadata": {
    "id": "ubL_69F0A818"
   },
   "source": [
    "### **3. Glacier Levels Data**"
   ]
  },
  {
   "cell_type": "code",
   "execution_count": 28,
   "metadata": {
    "colab": {
     "base_uri": "https://localhost:8080/",
     "height": 206
    },
    "id": "wzHsROCB_4nI",
    "outputId": "d0b0bfe3-c56f-4b4f-dce9-9cc6b802b431"
   },
   "outputs": [
    {
     "data": {
      "text/html": [
       "<div>\n",
       "<style scoped>\n",
       "    .dataframe tbody tr th:only-of-type {\n",
       "        vertical-align: middle;\n",
       "    }\n",
       "\n",
       "    .dataframe tbody tr th {\n",
       "        vertical-align: top;\n",
       "    }\n",
       "\n",
       "    .dataframe thead th {\n",
       "        text-align: right;\n",
       "    }\n",
       "</style>\n",
       "<table border=\"1\" class=\"dataframe\">\n",
       "  <thead>\n",
       "    <tr style=\"text-align: right;\">\n",
       "      <th></th>\n",
       "      <th>Year</th>\n",
       "      <th>Mean cumulative mass balance</th>\n",
       "      <th>Number of observations</th>\n",
       "    </tr>\n",
       "  </thead>\n",
       "  <tbody>\n",
       "    <tr>\n",
       "      <th>0</th>\n",
       "      <td>1945</td>\n",
       "      <td>0.00</td>\n",
       "      <td>NaN</td>\n",
       "    </tr>\n",
       "    <tr>\n",
       "      <th>1</th>\n",
       "      <td>1946</td>\n",
       "      <td>-1.13</td>\n",
       "      <td>1.0</td>\n",
       "    </tr>\n",
       "    <tr>\n",
       "      <th>2</th>\n",
       "      <td>1947</td>\n",
       "      <td>-3.19</td>\n",
       "      <td>1.0</td>\n",
       "    </tr>\n",
       "    <tr>\n",
       "      <th>3</th>\n",
       "      <td>1948</td>\n",
       "      <td>-3.19</td>\n",
       "      <td>1.0</td>\n",
       "    </tr>\n",
       "    <tr>\n",
       "      <th>4</th>\n",
       "      <td>1949</td>\n",
       "      <td>-3.82</td>\n",
       "      <td>3.0</td>\n",
       "    </tr>\n",
       "  </tbody>\n",
       "</table>\n",
       "</div>"
      ],
      "text/plain": [
       "   Year  Mean cumulative mass balance  Number of observations\n",
       "0  1945                          0.00                     NaN\n",
       "1  1946                         -1.13                     1.0\n",
       "2  1947                         -3.19                     1.0\n",
       "3  1948                         -3.19                     1.0\n",
       "4  1949                         -3.82                     3.0"
      ]
     },
     "execution_count": 28,
     "metadata": {},
     "output_type": "execute_result"
    }
   ],
   "source": [
    "#read the required dataset in the dataframe\n",
    "glacier = pd.read_csv(\"/Users/shubhamgoel/Downloads/EDA Project_A2_Group2/glaciers_csv.csv\")\n",
    "glacier.head()"
   ]
  },
  {
   "cell_type": "code",
   "execution_count": 29,
   "metadata": {
    "colab": {
     "base_uri": "https://localhost:8080/"
    },
    "id": "XCG4TalleiU-",
    "outputId": "e408afbe-fa3c-4529-aa22-276110bb611c"
   },
   "outputs": [
    {
     "name": "stdout",
     "output_type": "stream",
     "text": [
      "<class 'pandas.core.frame.DataFrame'>\n",
      "RangeIndex: 70 entries, 0 to 69\n",
      "Data columns (total 3 columns):\n",
      " #   Column                        Non-Null Count  Dtype  \n",
      "---  ------                        --------------  -----  \n",
      " 0   Year                          70 non-null     int64  \n",
      " 1   Mean cumulative mass balance  70 non-null     float64\n",
      " 2   Number of observations        69 non-null     float64\n",
      "dtypes: float64(2), int64(1)\n",
      "memory usage: 1.8 KB\n"
     ]
    }
   ],
   "source": [
    "#check what data is the dataset\n",
    "glacier.info()"
   ]
  },
  {
   "cell_type": "code",
   "execution_count": 30,
   "metadata": {
    "colab": {
     "base_uri": "https://localhost:8080/"
    },
    "id": "EE-CReKbeqIh",
    "outputId": "d3d79625-fd1f-4cf8-bc63-2378cb0b32ff"
   },
   "outputs": [
    {
     "data": {
      "text/plain": [
       "Year                            0\n",
       "Mean cumulative mass balance    0\n",
       "Number of observations          1\n",
       "dtype: int64"
      ]
     },
     "execution_count": 30,
     "metadata": {},
     "output_type": "execute_result"
    }
   ],
   "source": [
    "#check the null values in the dataset\n",
    "glacier.isnull().sum()"
   ]
  },
  {
   "cell_type": "code",
   "execution_count": 31,
   "metadata": {
    "colab": {
     "base_uri": "https://localhost:8080/",
     "height": 81
    },
    "id": "um7_v5Uqes50",
    "outputId": "3e5d0d23-c76a-4b25-9cc4-64c3ef273618"
   },
   "outputs": [
    {
     "data": {
      "text/html": [
       "<div>\n",
       "<style scoped>\n",
       "    .dataframe tbody tr th:only-of-type {\n",
       "        vertical-align: middle;\n",
       "    }\n",
       "\n",
       "    .dataframe tbody tr th {\n",
       "        vertical-align: top;\n",
       "    }\n",
       "\n",
       "    .dataframe thead th {\n",
       "        text-align: right;\n",
       "    }\n",
       "</style>\n",
       "<table border=\"1\" class=\"dataframe\">\n",
       "  <thead>\n",
       "    <tr style=\"text-align: right;\">\n",
       "      <th></th>\n",
       "      <th>Year</th>\n",
       "      <th>Mean cumulative mass balance</th>\n",
       "      <th>Number of observations</th>\n",
       "    </tr>\n",
       "  </thead>\n",
       "  <tbody>\n",
       "    <tr>\n",
       "      <th>0</th>\n",
       "      <td>1945</td>\n",
       "      <td>0.0</td>\n",
       "      <td>NaN</td>\n",
       "    </tr>\n",
       "  </tbody>\n",
       "</table>\n",
       "</div>"
      ],
      "text/plain": [
       "   Year  Mean cumulative mass balance  Number of observations\n",
       "0  1945                           0.0                     NaN"
      ]
     },
     "execution_count": 31,
     "metadata": {},
     "output_type": "execute_result"
    }
   ],
   "source": [
    "glacier[glacier.isnull().any(axis=1)]"
   ]
  },
  {
   "cell_type": "code",
   "execution_count": 32,
   "metadata": {
    "colab": {
     "base_uri": "https://localhost:8080/",
     "height": 364
    },
    "id": "POu3ecEBexpG",
    "outputId": "feb38b77-d83c-4a6f-b5d9-450f8038a5f9"
   },
   "outputs": [],
   "source": [
    "#convert the datatype of 'Time' column from object to datatime\n",
    "glacier['Year'] = pd.to_datetime(glacier['Year'].astype(str), format='%Y')"
   ]
  },
  {
   "cell_type": "code",
   "execution_count": 33,
   "metadata": {
    "colab": {
     "base_uri": "https://localhost:8080/",
     "height": 206
    },
    "id": "MuleRHBXe9Md",
    "outputId": "ca46ae59-7849-42d2-9280-48003bb2fd6c"
   },
   "outputs": [
    {
     "data": {
      "text/html": [
       "<div>\n",
       "<style scoped>\n",
       "    .dataframe tbody tr th:only-of-type {\n",
       "        vertical-align: middle;\n",
       "    }\n",
       "\n",
       "    .dataframe tbody tr th {\n",
       "        vertical-align: top;\n",
       "    }\n",
       "\n",
       "    .dataframe thead th {\n",
       "        text-align: right;\n",
       "    }\n",
       "</style>\n",
       "<table border=\"1\" class=\"dataframe\">\n",
       "  <thead>\n",
       "    <tr style=\"text-align: right;\">\n",
       "      <th></th>\n",
       "      <th>Year</th>\n",
       "      <th>Mean cumulative mass balance</th>\n",
       "      <th>Number of observations</th>\n",
       "    </tr>\n",
       "  </thead>\n",
       "  <tbody>\n",
       "    <tr>\n",
       "      <th>0</th>\n",
       "      <td>1945-01-01</td>\n",
       "      <td>0.00</td>\n",
       "      <td>NaN</td>\n",
       "    </tr>\n",
       "    <tr>\n",
       "      <th>1</th>\n",
       "      <td>1946-01-01</td>\n",
       "      <td>-1.13</td>\n",
       "      <td>1.0</td>\n",
       "    </tr>\n",
       "    <tr>\n",
       "      <th>2</th>\n",
       "      <td>1947-01-01</td>\n",
       "      <td>-3.19</td>\n",
       "      <td>1.0</td>\n",
       "    </tr>\n",
       "    <tr>\n",
       "      <th>3</th>\n",
       "      <td>1948-01-01</td>\n",
       "      <td>-3.19</td>\n",
       "      <td>1.0</td>\n",
       "    </tr>\n",
       "    <tr>\n",
       "      <th>4</th>\n",
       "      <td>1949-01-01</td>\n",
       "      <td>-3.82</td>\n",
       "      <td>3.0</td>\n",
       "    </tr>\n",
       "  </tbody>\n",
       "</table>\n",
       "</div>"
      ],
      "text/plain": [
       "        Year  Mean cumulative mass balance  Number of observations\n",
       "0 1945-01-01                          0.00                     NaN\n",
       "1 1946-01-01                         -1.13                     1.0\n",
       "2 1947-01-01                         -3.19                     1.0\n",
       "3 1948-01-01                         -3.19                     1.0\n",
       "4 1949-01-01                         -3.82                     3.0"
      ]
     },
     "execution_count": 33,
     "metadata": {},
     "output_type": "execute_result"
    }
   ],
   "source": [
    "glacier.head()"
   ]
  },
  {
   "cell_type": "code",
   "execution_count": 34,
   "metadata": {
    "colab": {
     "base_uri": "https://localhost:8080/",
     "height": 238
    },
    "id": "zoV29Z_1fCCa",
    "outputId": "f4af62d6-86c8-4c43-d779-9445fb032299"
   },
   "outputs": [
    {
     "data": {
      "text/html": [
       "<div>\n",
       "<style scoped>\n",
       "    .dataframe tbody tr th:only-of-type {\n",
       "        vertical-align: middle;\n",
       "    }\n",
       "\n",
       "    .dataframe tbody tr th {\n",
       "        vertical-align: top;\n",
       "    }\n",
       "\n",
       "    .dataframe thead th {\n",
       "        text-align: right;\n",
       "    }\n",
       "</style>\n",
       "<table border=\"1\" class=\"dataframe\">\n",
       "  <thead>\n",
       "    <tr style=\"text-align: right;\">\n",
       "      <th></th>\n",
       "      <th>Mean cumulative mass balance</th>\n",
       "      <th>Number of observations</th>\n",
       "    </tr>\n",
       "    <tr>\n",
       "      <th>Year</th>\n",
       "      <th></th>\n",
       "      <th></th>\n",
       "    </tr>\n",
       "  </thead>\n",
       "  <tbody>\n",
       "    <tr>\n",
       "      <th>1945-01-01</th>\n",
       "      <td>0.00</td>\n",
       "      <td>NaN</td>\n",
       "    </tr>\n",
       "    <tr>\n",
       "      <th>1946-01-01</th>\n",
       "      <td>-1.13</td>\n",
       "      <td>1.0</td>\n",
       "    </tr>\n",
       "    <tr>\n",
       "      <th>1947-01-01</th>\n",
       "      <td>-3.19</td>\n",
       "      <td>1.0</td>\n",
       "    </tr>\n",
       "    <tr>\n",
       "      <th>1948-01-01</th>\n",
       "      <td>-3.19</td>\n",
       "      <td>1.0</td>\n",
       "    </tr>\n",
       "    <tr>\n",
       "      <th>1949-01-01</th>\n",
       "      <td>-3.82</td>\n",
       "      <td>3.0</td>\n",
       "    </tr>\n",
       "  </tbody>\n",
       "</table>\n",
       "</div>"
      ],
      "text/plain": [
       "            Mean cumulative mass balance  Number of observations\n",
       "Year                                                            \n",
       "1945-01-01                          0.00                     NaN\n",
       "1946-01-01                         -1.13                     1.0\n",
       "1947-01-01                         -3.19                     1.0\n",
       "1948-01-01                         -3.19                     1.0\n",
       "1949-01-01                         -3.82                     3.0"
      ]
     },
     "execution_count": 34,
     "metadata": {},
     "output_type": "execute_result"
    }
   ],
   "source": [
    "glacier=glacier.set_index('Year')\n",
    "glacier.head()"
   ]
  },
  {
   "cell_type": "code",
   "execution_count": 35,
   "metadata": {
    "colab": {
     "base_uri": "https://localhost:8080/",
     "height": 238
    },
    "id": "bdlC5dsffEy6",
    "outputId": "21648d24-2a40-4d6a-f1e0-e0eea5115a8d"
   },
   "outputs": [
    {
     "data": {
      "text/html": [
       "<div>\n",
       "<style scoped>\n",
       "    .dataframe tbody tr th:only-of-type {\n",
       "        vertical-align: middle;\n",
       "    }\n",
       "\n",
       "    .dataframe tbody tr th {\n",
       "        vertical-align: top;\n",
       "    }\n",
       "\n",
       "    .dataframe thead th {\n",
       "        text-align: right;\n",
       "    }\n",
       "</style>\n",
       "<table border=\"1\" class=\"dataframe\">\n",
       "  <thead>\n",
       "    <tr style=\"text-align: right;\">\n",
       "      <th></th>\n",
       "      <th>Mean cumulative mass balance</th>\n",
       "    </tr>\n",
       "    <tr>\n",
       "      <th>Year</th>\n",
       "      <th></th>\n",
       "    </tr>\n",
       "  </thead>\n",
       "  <tbody>\n",
       "    <tr>\n",
       "      <th>1945-01-01</th>\n",
       "      <td>0.00</td>\n",
       "    </tr>\n",
       "    <tr>\n",
       "      <th>1946-01-01</th>\n",
       "      <td>-1.13</td>\n",
       "    </tr>\n",
       "    <tr>\n",
       "      <th>1947-01-01</th>\n",
       "      <td>-3.19</td>\n",
       "    </tr>\n",
       "    <tr>\n",
       "      <th>1948-01-01</th>\n",
       "      <td>-3.19</td>\n",
       "    </tr>\n",
       "    <tr>\n",
       "      <th>1949-01-01</th>\n",
       "      <td>-3.82</td>\n",
       "    </tr>\n",
       "  </tbody>\n",
       "</table>\n",
       "</div>"
      ],
      "text/plain": [
       "            Mean cumulative mass balance\n",
       "Year                                    \n",
       "1945-01-01                          0.00\n",
       "1946-01-01                         -1.13\n",
       "1947-01-01                         -3.19\n",
       "1948-01-01                         -3.19\n",
       "1949-01-01                         -3.82"
      ]
     },
     "execution_count": 35,
     "metadata": {},
     "output_type": "execute_result"
    }
   ],
   "source": [
    "#droping the column\n",
    "glacier = glacier[[\"Mean cumulative mass balance\"]]\n",
    "glacier.head()"
   ]
  },
  {
   "cell_type": "code",
   "execution_count": 36,
   "metadata": {
    "colab": {
     "base_uri": "https://localhost:8080/",
     "height": 351
    },
    "id": "_w1EgTtofICl",
    "outputId": "455b19d4-9734-452b-8883-c7c2a936dfda"
   },
   "outputs": [
    {
     "data": {
      "text/plain": [
       "<AxesSubplot:xlabel='Year'>"
      ]
     },
     "execution_count": 36,
     "metadata": {},
     "output_type": "execute_result"
    },
    {
     "data": {
      "image/png": "[encoded data removed]",
      "text/plain": [
       "<Figure size 1080x360 with 1 Axes>"
      ]
     },
     "metadata": {
      "needs_background": "light"
     },
     "output_type": "display_data"
    }
   ],
   "source": [
    "#ploting the time series graph for the filtered data\n",
    "glacier.resample('Y').mean().plot(figsize=(15,5))"
   ]
  },
  {
   "cell_type": "code",
   "execution_count": 37,
   "metadata": {
    "id": "eMnOoVppfLQy"
   },
   "outputs": [],
   "source": [
    "#dropping/filtering the data before 2005, to make it in sync with the datasets used for the project.\n",
    "glacier1 = glacier[(glacier.index > '2004-12-31')]"
   ]
  },
  {
   "cell_type": "code",
   "execution_count": 38,
   "metadata": {
    "id": "oFxTzfejfPA9"
   },
   "outputs": [],
   "source": [
    "#dropping/filtering the data after 2014, to make it in sync with the datasets used for the project.\n",
    "glacier2 = glacier1[(glacier1.index < '2015-01-01')]"
   ]
  },
  {
   "cell_type": "code",
   "execution_count": 39,
   "metadata": {
    "colab": {
     "base_uri": "https://localhost:8080/",
     "height": 351
    },
    "id": "v2__RrTbfRqE",
    "outputId": "98bd35b6-554b-4736-e0e0-b336ea8d770a"
   },
   "outputs": [
    {
     "data": {
      "text/plain": [
       "[Text(0.5, 0, 'Year'), Text(0, 0.5, 'Average mass of measured glacier')]"
      ]
     },
     "execution_count": 39,
     "metadata": {},
     "output_type": "execute_result"
    },
    {
     "data": {
      "image/png": "[encoded data removed]",
      "text/plain": [
       "<Figure size 1080x360 with 1 Axes>"
      ]
     },
     "metadata": {
      "needs_background": "light"
     },
     "output_type": "display_data"
    }
   ],
   "source": [
    "#ploting the time series graph for the filtered data\n",
    "plt = glacier2.resample('Y').mean().plot(figsize=(15,5))\n",
    "plt.set(xlabel = 'Year', ylabel = 'Average mass of measured glacier')"
   ]
  },
  {
   "cell_type": "markdown",
   "metadata": {
    "id": "KrdRuCUpAZHw"
   },
   "source": [
    "### **4. EU ETS Emissions Data**\n",
    "Data source: https://datahub.io/core/eu-emissions-trading-system\n",
    "\n",
    "This datasets serve as one of the main datasets to represent the green house gas emissions from each european countries over years. The dataset also consists of sector info and ETS info for us to show the emissions different between sectors and the amount of emissions from different kinds of trading methods under ETS."
   ]
  },
  {
   "cell_type": "code",
   "execution_count": 40,
   "metadata": {
    "id": "c3r8lm7dCMHY"
   },
   "outputs": [
    {
     "name": "stdout",
     "output_type": "stream",
     "text": [
      "  country_code  country main_activity_sector_name  \\\n",
      "0           AT  Austria               10 Aviation   \n",
      "1           AT  Austria               10 Aviation   \n",
      "2           AT  Austria               10 Aviation   \n",
      "3           AT  Austria               10 Aviation   \n",
      "4           AT  Austria               10 Aviation   \n",
      "\n",
      "                                            ETS_info  year value  \n",
      "0        1. Total allocated allowances (EUA or EUAA)  2005     0  \n",
      "1  1.2 Correction to freely allocated allowances ...  2005     0  \n",
      "2  1.3 Allowances auctioned or sold (EUAs and EUAAs)  2005     0  \n",
      "3     4.1 Surrendered EU allowances (EUAs and EUAAs)  2005     0  \n",
      "4  4.2 Surrendered certified emission reductions ...  2005     0  \n"
     ]
    }
   ],
   "source": [
    "# This is the download guidelines from the data source.\n",
    "package = Package('https://datahub.io/core/eu-emissions-trading-system/datapackage.json')\n",
    "for resource in package.resources:\n",
    "    if resource.descriptor['datahub']['type'] == 'derived/csv':\n",
    "        test_eu = resource.read()\n",
    "# Create a new dataframe to fill in all the data point we obtained from the web.\n",
    "# We found out that the last column 'unit' contains the same data all the way down, so we are not filling it into our dataframe.\n",
    "df2 = pd.DataFrame(columns=['country_code', 'country', 'main_activity_sector_name', 'ETS_info', 'year', 'value'])\n",
    "\n",
    "for i in range(len(test_eu)):\n",
    "    if isinstance(test_eu[i][4], str): # only getting str for the column 'year'\n",
    "        df2.loc[i,'country_code'] = test_eu[i][0]\n",
    "        df2.loc[i,'country'] = test_eu[i][1]\n",
    "        df2.loc[i,'main_activity_sector_name'] = test_eu[i][2]\n",
    "        df2.loc[i,'ETS_info'] = test_eu[i][3]\n",
    "        df2.loc[i,'year'] = test_eu[i][4]\n",
    "        df2.loc[i,'value'] = test_eu[i][5]\n",
    "print(df2.head())\n"
   ]
  },
  {
   "cell_type": "code",
   "execution_count": 41,
   "metadata": {
    "id": "68YluLsLKrKk"
   },
   "outputs": [
    {
     "data": {
      "text/plain": [
       "country_code                 0\n",
       "country                      0\n",
       "main_activity_sector_name    0\n",
       "ETS_info                     0\n",
       "year                         0\n",
       "value                        0\n",
       "dtype: int64"
      ]
     },
     "execution_count": 41,
     "metadata": {},
     "output_type": "execute_result"
    }
   ],
   "source": [
    "df_eu = df2 \n",
    "df_eu.isnull().sum() # no missing data here\n"
   ]
  },
  {
   "cell_type": "code",
   "execution_count": 42,
   "metadata": {
    "id": "MF7cSAD4KrIO"
   },
   "outputs": [
    {
     "data": {
      "text/plain": [
       "array(['2005', '2006', '2007', '2008', '2009', '2010', '2011', '2012',\n",
       "       '2013', '2014', 'Total 1st trading period (05-07)',\n",
       "       'Total 2nd trading period (08-12)',\n",
       "       'Total 3rd trading period (13-20)'], dtype=object)"
      ]
     },
     "execution_count": 42,
     "metadata": {},
     "output_type": "execute_result"
    }
   ],
   "source": [
    "df_eu.dtypes # We can see that we need some manipulation toward the data type of year and value.\n",
    "df_eu.year.unique() # There is inconsistent format in the column, having some rows with aggregated data."
   ]
  },
  {
   "cell_type": "code",
   "execution_count": 43,
   "metadata": {
    "id": "Vkb-HtVbLbSN"
   },
   "outputs": [],
   "source": [
    "# Using regex to get rid of the aggregated data in the column 'year'.\n",
    "regex = '^\\d{4}$'\n",
    "df_eu = df_eu[df_eu['year'].str.match(regex)]"
   ]
  },
  {
   "cell_type": "code",
   "execution_count": 44,
   "metadata": {
    "id": "CRIT3fOyLWFo"
   },
   "outputs": [
    {
     "name": "stderr",
     "output_type": "stream",
     "text": [
      "/var/folders/8c/wx8w_stj2gd4vrm0ty5lnqqc0000gn/T/ipykernel_16814/2357258845.py:2: SettingWithCopyWarning: \n",
      "A value is trying to be set on a copy of a slice from a DataFrame.\n",
      "Try using .loc[row_indexer,col_indexer] = value instead\n",
      "\n",
      "See the caveats in the documentation: https://pandas.pydata.org/pandas-docs/stable/user_guide/indexing.html#returning-a-view-versus-a-copy\n",
      "  df_eu['year'] = pd.to_datetime(df_eu['year'])\n",
      "/var/folders/8c/wx8w_stj2gd4vrm0ty5lnqqc0000gn/T/ipykernel_16814/2357258845.py:3: SettingWithCopyWarning: \n",
      "A value is trying to be set on a copy of a slice from a DataFrame.\n",
      "Try using .loc[row_indexer,col_indexer] = value instead\n",
      "\n",
      "See the caveats in the documentation: https://pandas.pydata.org/pandas-docs/stable/user_guide/indexing.html#returning-a-view-versus-a-copy\n",
      "  df_eu['value'] = df_eu['value'].astype(float)\n"
     ]
    }
   ],
   "source": [
    "# convert column 'year' and 'value' to datetime and float.\n",
    "df_eu['year'] = pd.to_datetime(df_eu['year'])\n",
    "df_eu['value'] = df_eu['value'].astype(float)"
   ]
  },
  {
   "cell_type": "code",
   "execution_count": 45,
   "metadata": {
    "id": "QxZEEtquLWC8"
   },
   "outputs": [
    {
     "name": "stdout",
     "output_type": "stream",
     "text": [
      "30\n",
      "['10 Aviation' '20 Combustion of fuels'\n",
      " '20-99 All stationary installations' '21  Refining of mineral oil'\n",
      " '21-99 All industrial installations (excl. combustion)'\n",
      " '22  Production of coke' '24  Production of pig iron or steel'\n",
      " '25 Production or processing of ferrous metals'\n",
      " '27 Production of secondary aluminium'\n",
      " '28 Production or processing of non-ferrous metals'\n",
      " '29 Production of cement clinker'\n",
      " '30 Production of lime, or calcination of dolomite/magnesite'\n",
      " '31 Manufacture of glass' '32 Manufacture of ceramics'\n",
      " '34 Production or processing of gypsum or plasterboard'\n",
      " '35 Production of pulp' '36 Production of paper or cardboard'\n",
      " '38 Production of nitric acid' '41 Production of ammonia'\n",
      " '42 Production of bulk chemicals'\n",
      " '99 Other activity opted-in under Art. 24'\n",
      " '26 Production of primary aluminium'\n",
      " '43 Production of hydrogen and synthesis gas'\n",
      " '44 Production of soda ash and sodium bicarbonate'\n",
      " '33 Manufacture of mineral wool' '23 Metal ore roasting or sintering'\n",
      " '37 Production of carbon black' '39 Production of adipic acid'\n",
      " '40 Production of glyoxal and glyoxylic acid'\n",
      " '45 Capture of greenhouse gases under Directive 2009/31/EC']\n"
     ]
    }
   ],
   "source": [
    "# checking the amount and names in the sector column.\n",
    "print(df_eu['main_activity_sector_name'].nunique())\n",
    "print(df_eu['main_activity_sector_name'].unique())\n"
   ]
  },
  {
   "cell_type": "code",
   "execution_count": 46,
   "metadata": {
    "id": "5rsHoC5kLWAX"
   },
   "outputs": [
    {
     "name": "stdout",
     "output_type": "stream",
     "text": [
      "13\n",
      "['1. Total allocated allowances (EUA or EUAA)'\n",
      " '1.2 Correction to freely allocated allowances (not reflected in EUTL)'\n",
      " '1.3 Allowances auctioned or sold (EUAs and EUAAs)'\n",
      " '4.1 Surrendered EU allowances (EUAs and EUAAs)'\n",
      " '4.2 Surrendered certified emission reductions (CERs)'\n",
      " '4.3 Surrendered emission reduction units (ERUs)' '2. Verified emissions'\n",
      " '1.1 Freely allocated allowances'\n",
      " '1.1.1 Free allocation to existing entities (Art. 10a(1))'\n",
      " '4. Total surrendered units'\n",
      " '1.1.2 Free allocation from the new entrants reserve (Art. 10a(7))'\n",
      " '1.1.3 Free allocation for modernisation of electricity generation (Art. 10c)'\n",
      " '3. Consistent scope correction to allowances and emissions since 2005']\n"
     ]
    }
   ],
   "source": [
    "# checking the amount and names in the ETS_info column.\n",
    "print(df_eu['ETS_info'].nunique())\n",
    "print(df_eu['ETS_info'].unique())"
   ]
  },
  {
   "cell_type": "code",
   "execution_count": 47,
   "metadata": {
    "id": "-oa1PNEIKrFW"
   },
   "outputs": [
    {
     "name": "stdout",
     "output_type": "stream",
     "text": [
      "32\n",
      "['Austria' 'Belgium' 'Bulgaria' 'Cyprus' 'Czech Republic' 'Germany'\n",
      " 'Denmark' 'Estonia' 'Spain' 'Finland' 'France' 'United Kingdom' 'Greece'\n",
      " 'Croatia' 'Hungary' 'Ireland' 'Iceland' 'Italy' 'Liechtenstein'\n",
      " 'Lithuania' 'Luxembourg' 'Latvia' 'Malta' 'NER 300 auctions'\n",
      " 'Netherlands' 'Norway' 'Poland' 'Portugal' 'Romania' 'Sweden' 'Slovenia'\n",
      " 'Slovakia']\n"
     ]
    }
   ],
   "source": [
    "# checking the amount and names in the ETS_info column.\n",
    "# All country's name are perfect except 'NER 300 auctions'.\n",
    "print(df_eu['country'].nunique())\n",
    "print(df_eu['country'].unique())"
   ]
  },
  {
   "cell_type": "code",
   "execution_count": 48,
   "metadata": {
    "id": "uy4HPB-eKrCf"
   },
   "outputs": [
    {
     "data": {
      "text/html": [
       "<div>\n",
       "<style scoped>\n",
       "    .dataframe tbody tr th:only-of-type {\n",
       "        vertical-align: middle;\n",
       "    }\n",
       "\n",
       "    .dataframe tbody tr th {\n",
       "        vertical-align: top;\n",
       "    }\n",
       "\n",
       "    .dataframe thead th {\n",
       "        text-align: right;\n",
       "    }\n",
       "</style>\n",
       "<table border=\"1\" class=\"dataframe\">\n",
       "  <thead>\n",
       "    <tr style=\"text-align: right;\">\n",
       "      <th></th>\n",
       "      <th>country_code</th>\n",
       "      <th>country</th>\n",
       "      <th>main_activity_sector_name</th>\n",
       "      <th>ETS_info</th>\n",
       "      <th>year</th>\n",
       "      <th>value</th>\n",
       "    </tr>\n",
       "  </thead>\n",
       "  <tbody>\n",
       "    <tr>\n",
       "      <th>29733</th>\n",
       "      <td>NER300</td>\n",
       "      <td>NER 300 auctions</td>\n",
       "      <td>20-99 All stationary installations</td>\n",
       "      <td>1. Total allocated allowances (EUA or EUAA)</td>\n",
       "      <td>2005-01-01</td>\n",
       "      <td>0.0</td>\n",
       "    </tr>\n",
       "    <tr>\n",
       "      <th>29734</th>\n",
       "      <td>NER300</td>\n",
       "      <td>NER 300 auctions</td>\n",
       "      <td>20-99 All stationary installations</td>\n",
       "      <td>1.3 Allowances auctioned or sold (EUAs and EUAAs)</td>\n",
       "      <td>2005-01-01</td>\n",
       "      <td>0.0</td>\n",
       "    </tr>\n",
       "    <tr>\n",
       "      <th>29735</th>\n",
       "      <td>NER300</td>\n",
       "      <td>NER 300 auctions</td>\n",
       "      <td>20-99 All stationary installations</td>\n",
       "      <td>1. Total allocated allowances (EUA or EUAA)</td>\n",
       "      <td>2006-01-01</td>\n",
       "      <td>0.0</td>\n",
       "    </tr>\n",
       "    <tr>\n",
       "      <th>29736</th>\n",
       "      <td>NER300</td>\n",
       "      <td>NER 300 auctions</td>\n",
       "      <td>20-99 All stationary installations</td>\n",
       "      <td>1.3 Allowances auctioned or sold (EUAs and EUAAs)</td>\n",
       "      <td>2006-01-01</td>\n",
       "      <td>0.0</td>\n",
       "    </tr>\n",
       "    <tr>\n",
       "      <th>29737</th>\n",
       "      <td>NER300</td>\n",
       "      <td>NER 300 auctions</td>\n",
       "      <td>20-99 All stationary installations</td>\n",
       "      <td>1. Total allocated allowances (EUA or EUAA)</td>\n",
       "      <td>2007-01-01</td>\n",
       "      <td>0.0</td>\n",
       "    </tr>\n",
       "    <tr>\n",
       "      <th>29738</th>\n",
       "      <td>NER300</td>\n",
       "      <td>NER 300 auctions</td>\n",
       "      <td>20-99 All stationary installations</td>\n",
       "      <td>1.3 Allowances auctioned or sold (EUAs and EUAAs)</td>\n",
       "      <td>2007-01-01</td>\n",
       "      <td>0.0</td>\n",
       "    </tr>\n",
       "    <tr>\n",
       "      <th>29739</th>\n",
       "      <td>NER300</td>\n",
       "      <td>NER 300 auctions</td>\n",
       "      <td>20-99 All stationary installations</td>\n",
       "      <td>1. Total allocated allowances (EUA or EUAA)</td>\n",
       "      <td>2008-01-01</td>\n",
       "      <td>0.0</td>\n",
       "    </tr>\n",
       "    <tr>\n",
       "      <th>29740</th>\n",
       "      <td>NER300</td>\n",
       "      <td>NER 300 auctions</td>\n",
       "      <td>20-99 All stationary installations</td>\n",
       "      <td>1.3 Allowances auctioned or sold (EUAs and EUAAs)</td>\n",
       "      <td>2008-01-01</td>\n",
       "      <td>0.0</td>\n",
       "    </tr>\n",
       "    <tr>\n",
       "      <th>29741</th>\n",
       "      <td>NER300</td>\n",
       "      <td>NER 300 auctions</td>\n",
       "      <td>20-99 All stationary installations</td>\n",
       "      <td>1. Total allocated allowances (EUA or EUAA)</td>\n",
       "      <td>2009-01-01</td>\n",
       "      <td>0.0</td>\n",
       "    </tr>\n",
       "    <tr>\n",
       "      <th>29742</th>\n",
       "      <td>NER300</td>\n",
       "      <td>NER 300 auctions</td>\n",
       "      <td>20-99 All stationary installations</td>\n",
       "      <td>1.3 Allowances auctioned or sold (EUAs and EUAAs)</td>\n",
       "      <td>2009-01-01</td>\n",
       "      <td>0.0</td>\n",
       "    </tr>\n",
       "    <tr>\n",
       "      <th>29743</th>\n",
       "      <td>NER300</td>\n",
       "      <td>NER 300 auctions</td>\n",
       "      <td>20-99 All stationary installations</td>\n",
       "      <td>1. Total allocated allowances (EUA or EUAA)</td>\n",
       "      <td>2010-01-01</td>\n",
       "      <td>0.0</td>\n",
       "    </tr>\n",
       "    <tr>\n",
       "      <th>29744</th>\n",
       "      <td>NER300</td>\n",
       "      <td>NER 300 auctions</td>\n",
       "      <td>20-99 All stationary installations</td>\n",
       "      <td>1.3 Allowances auctioned or sold (EUAs and EUAAs)</td>\n",
       "      <td>2010-01-01</td>\n",
       "      <td>0.0</td>\n",
       "    </tr>\n",
       "    <tr>\n",
       "      <th>29745</th>\n",
       "      <td>NER300</td>\n",
       "      <td>NER 300 auctions</td>\n",
       "      <td>20-99 All stationary installations</td>\n",
       "      <td>1. Total allocated allowances (EUA or EUAA)</td>\n",
       "      <td>2011-01-01</td>\n",
       "      <td>0.0</td>\n",
       "    </tr>\n",
       "    <tr>\n",
       "      <th>29746</th>\n",
       "      <td>NER300</td>\n",
       "      <td>NER 300 auctions</td>\n",
       "      <td>20-99 All stationary installations</td>\n",
       "      <td>1.3 Allowances auctioned or sold (EUAs and EUAAs)</td>\n",
       "      <td>2011-01-01</td>\n",
       "      <td>0.0</td>\n",
       "    </tr>\n",
       "    <tr>\n",
       "      <th>29747</th>\n",
       "      <td>NER300</td>\n",
       "      <td>NER 300 auctions</td>\n",
       "      <td>20-99 All stationary installations</td>\n",
       "      <td>1. Total allocated allowances (EUA or EUAA)</td>\n",
       "      <td>2012-01-01</td>\n",
       "      <td>0.0</td>\n",
       "    </tr>\n",
       "    <tr>\n",
       "      <th>29748</th>\n",
       "      <td>NER300</td>\n",
       "      <td>NER 300 auctions</td>\n",
       "      <td>20-99 All stationary installations</td>\n",
       "      <td>1.3 Allowances auctioned or sold (EUAs and EUAAs)</td>\n",
       "      <td>2012-01-01</td>\n",
       "      <td>0.0</td>\n",
       "    </tr>\n",
       "    <tr>\n",
       "      <th>29749</th>\n",
       "      <td>NER300</td>\n",
       "      <td>NER 300 auctions</td>\n",
       "      <td>20-99 All stationary installations</td>\n",
       "      <td>1. Total allocated allowances (EUA or EUAA)</td>\n",
       "      <td>2013-01-01</td>\n",
       "      <td>200000000.0</td>\n",
       "    </tr>\n",
       "    <tr>\n",
       "      <th>29750</th>\n",
       "      <td>NER300</td>\n",
       "      <td>NER 300 auctions</td>\n",
       "      <td>20-99 All stationary installations</td>\n",
       "      <td>1.3 Allowances auctioned or sold (EUAs and EUAAs)</td>\n",
       "      <td>2013-01-01</td>\n",
       "      <td>200000000.0</td>\n",
       "    </tr>\n",
       "    <tr>\n",
       "      <th>29751</th>\n",
       "      <td>NER300</td>\n",
       "      <td>NER 300 auctions</td>\n",
       "      <td>20-99 All stationary installations</td>\n",
       "      <td>1. Total allocated allowances (EUA or EUAA)</td>\n",
       "      <td>2014-01-01</td>\n",
       "      <td>100000000.0</td>\n",
       "    </tr>\n",
       "    <tr>\n",
       "      <th>29752</th>\n",
       "      <td>NER300</td>\n",
       "      <td>NER 300 auctions</td>\n",
       "      <td>20-99 All stationary installations</td>\n",
       "      <td>1.3 Allowances auctioned or sold (EUAs and EUAAs)</td>\n",
       "      <td>2014-01-01</td>\n",
       "      <td>100000000.0</td>\n",
       "    </tr>\n",
       "  </tbody>\n",
       "</table>\n",
       "</div>"
      ],
      "text/plain": [
       "      country_code           country           main_activity_sector_name  \\\n",
       "29733       NER300  NER 300 auctions  20-99 All stationary installations   \n",
       "29734       NER300  NER 300 auctions  20-99 All stationary installations   \n",
       "29735       NER300  NER 300 auctions  20-99 All stationary installations   \n",
       "29736       NER300  NER 300 auctions  20-99 All stationary installations   \n",
       "29737       NER300  NER 300 auctions  20-99 All stationary installations   \n",
       "29738       NER300  NER 300 auctions  20-99 All stationary installations   \n",
       "29739       NER300  NER 300 auctions  20-99 All stationary installations   \n",
       "29740       NER300  NER 300 auctions  20-99 All stationary installations   \n",
       "29741       NER300  NER 300 auctions  20-99 All stationary installations   \n",
       "29742       NER300  NER 300 auctions  20-99 All stationary installations   \n",
       "29743       NER300  NER 300 auctions  20-99 All stationary installations   \n",
       "29744       NER300  NER 300 auctions  20-99 All stationary installations   \n",
       "29745       NER300  NER 300 auctions  20-99 All stationary installations   \n",
       "29746       NER300  NER 300 auctions  20-99 All stationary installations   \n",
       "29747       NER300  NER 300 auctions  20-99 All stationary installations   \n",
       "29748       NER300  NER 300 auctions  20-99 All stationary installations   \n",
       "29749       NER300  NER 300 auctions  20-99 All stationary installations   \n",
       "29750       NER300  NER 300 auctions  20-99 All stationary installations   \n",
       "29751       NER300  NER 300 auctions  20-99 All stationary installations   \n",
       "29752       NER300  NER 300 auctions  20-99 All stationary installations   \n",
       "\n",
       "                                                ETS_info       year  \\\n",
       "29733        1. Total allocated allowances (EUA or EUAA) 2005-01-01   \n",
       "29734  1.3 Allowances auctioned or sold (EUAs and EUAAs) 2005-01-01   \n",
       "29735        1. Total allocated allowances (EUA or EUAA) 2006-01-01   \n",
       "29736  1.3 Allowances auctioned or sold (EUAs and EUAAs) 2006-01-01   \n",
       "29737        1. Total allocated allowances (EUA or EUAA) 2007-01-01   \n",
       "29738  1.3 Allowances auctioned or sold (EUAs and EUAAs) 2007-01-01   \n",
       "29739        1. Total allocated allowances (EUA or EUAA) 2008-01-01   \n",
       "29740  1.3 Allowances auctioned or sold (EUAs and EUAAs) 2008-01-01   \n",
       "29741        1. Total allocated allowances (EUA or EUAA) 2009-01-01   \n",
       "29742  1.3 Allowances auctioned or sold (EUAs and EUAAs) 2009-01-01   \n",
       "29743        1. Total allocated allowances (EUA or EUAA) 2010-01-01   \n",
       "29744  1.3 Allowances auctioned or sold (EUAs and EUAAs) 2010-01-01   \n",
       "29745        1. Total allocated allowances (EUA or EUAA) 2011-01-01   \n",
       "29746  1.3 Allowances auctioned or sold (EUAs and EUAAs) 2011-01-01   \n",
       "29747        1. Total allocated allowances (EUA or EUAA) 2012-01-01   \n",
       "29748  1.3 Allowances auctioned or sold (EUAs and EUAAs) 2012-01-01   \n",
       "29749        1. Total allocated allowances (EUA or EUAA) 2013-01-01   \n",
       "29750  1.3 Allowances auctioned or sold (EUAs and EUAAs) 2013-01-01   \n",
       "29751        1. Total allocated allowances (EUA or EUAA) 2014-01-01   \n",
       "29752  1.3 Allowances auctioned or sold (EUAs and EUAAs) 2014-01-01   \n",
       "\n",
       "             value  \n",
       "29733          0.0  \n",
       "29734          0.0  \n",
       "29735          0.0  \n",
       "29736          0.0  \n",
       "29737          0.0  \n",
       "29738          0.0  \n",
       "29739          0.0  \n",
       "29740          0.0  \n",
       "29741          0.0  \n",
       "29742          0.0  \n",
       "29743          0.0  \n",
       "29744          0.0  \n",
       "29745          0.0  \n",
       "29746          0.0  \n",
       "29747          0.0  \n",
       "29748          0.0  \n",
       "29749  200000000.0  \n",
       "29750  200000000.0  \n",
       "29751  100000000.0  \n",
       "29752  100000000.0  "
      ]
     },
     "execution_count": 48,
     "metadata": {},
     "output_type": "execute_result"
    }
   ],
   "source": [
    "# NER 300 auctions = Carbon emission rights\n",
    "# This is the carbon emission rights set for trading passed in 2010 and started in 2013, \n",
    "# it allows the emission becomes a kind of product to be trade on the market.\n",
    "# https://ir.theice.com/press/news-details/2012/ICE-Futures-Europe-Announces-NER-300-Auction-on-Behalf-of-European-Investment-Bank/default.aspx\n",
    "df_eu[df_eu['country'] == 'NER 300 auctions']"
   ]
  },
  {
   "cell_type": "code",
   "execution_count": 49,
   "metadata": {
    "id": "6udzPV_kKq_h"
   },
   "outputs": [
    {
     "data": {
      "text/html": [
       "<div>\n",
       "<style scoped>\n",
       "    .dataframe tbody tr th:only-of-type {\n",
       "        vertical-align: middle;\n",
       "    }\n",
       "\n",
       "    .dataframe tbody tr th {\n",
       "        vertical-align: top;\n",
       "    }\n",
       "\n",
       "    .dataframe thead th {\n",
       "        text-align: right;\n",
       "    }\n",
       "</style>\n",
       "<table border=\"1\" class=\"dataframe\">\n",
       "  <thead>\n",
       "    <tr style=\"text-align: right;\">\n",
       "      <th></th>\n",
       "      <th>country_code</th>\n",
       "      <th>country</th>\n",
       "      <th>main_activity_sector_name</th>\n",
       "      <th>ETS_info</th>\n",
       "      <th>year</th>\n",
       "      <th>value</th>\n",
       "    </tr>\n",
       "  </thead>\n",
       "  <tbody>\n",
       "    <tr>\n",
       "      <th>0</th>\n",
       "      <td>AT</td>\n",
       "      <td>Austria</td>\n",
       "      <td>10 Aviation</td>\n",
       "      <td>1. Total allocated allowances (EUA or EUAA)</td>\n",
       "      <td>2005-01-01</td>\n",
       "      <td>0.0</td>\n",
       "    </tr>\n",
       "    <tr>\n",
       "      <th>1</th>\n",
       "      <td>AT</td>\n",
       "      <td>Austria</td>\n",
       "      <td>10 Aviation</td>\n",
       "      <td>1.2 Correction to freely allocated allowances ...</td>\n",
       "      <td>2005-01-01</td>\n",
       "      <td>0.0</td>\n",
       "    </tr>\n",
       "    <tr>\n",
       "      <th>2</th>\n",
       "      <td>AT</td>\n",
       "      <td>Austria</td>\n",
       "      <td>10 Aviation</td>\n",
       "      <td>1.3 Allowances auctioned or sold (EUAs and EUAAs)</td>\n",
       "      <td>2005-01-01</td>\n",
       "      <td>0.0</td>\n",
       "    </tr>\n",
       "    <tr>\n",
       "      <th>3</th>\n",
       "      <td>AT</td>\n",
       "      <td>Austria</td>\n",
       "      <td>10 Aviation</td>\n",
       "      <td>4.1 Surrendered EU allowances (EUAs and EUAAs)</td>\n",
       "      <td>2005-01-01</td>\n",
       "      <td>0.0</td>\n",
       "    </tr>\n",
       "    <tr>\n",
       "      <th>4</th>\n",
       "      <td>AT</td>\n",
       "      <td>Austria</td>\n",
       "      <td>10 Aviation</td>\n",
       "      <td>4.2 Surrendered certified emission reductions ...</td>\n",
       "      <td>2005-01-01</td>\n",
       "      <td>0.0</td>\n",
       "    </tr>\n",
       "  </tbody>\n",
       "</table>\n",
       "</div>"
      ],
      "text/plain": [
       "  country_code  country main_activity_sector_name  \\\n",
       "0           AT  Austria               10 Aviation   \n",
       "1           AT  Austria               10 Aviation   \n",
       "2           AT  Austria               10 Aviation   \n",
       "3           AT  Austria               10 Aviation   \n",
       "4           AT  Austria               10 Aviation   \n",
       "\n",
       "                                            ETS_info       year  value  \n",
       "0        1. Total allocated allowances (EUA or EUAA) 2005-01-01    0.0  \n",
       "1  1.2 Correction to freely allocated allowances ... 2005-01-01    0.0  \n",
       "2  1.3 Allowances auctioned or sold (EUAs and EUAAs) 2005-01-01    0.0  \n",
       "3     4.1 Surrendered EU allowances (EUAs and EUAAs) 2005-01-01    0.0  \n",
       "4  4.2 Surrendered certified emission reductions ... 2005-01-01    0.0  "
      ]
     },
     "execution_count": 49,
     "metadata": {},
     "output_type": "execute_result"
    }
   ],
   "source": [
    "# Done cleaning for EU_ETS dataset\n",
    "euETS = df_eu\n",
    "euETS.head()"
   ]
  },
  {
   "cell_type": "markdown",
   "metadata": {
    "id": "ryMCEC18Al6F"
   },
   "source": [
    "### **5. Global Emissions Data**"
   ]
  },
  {
   "cell_type": "markdown",
   "metadata": {
    "id": "Z1YBpWAY6en0"
   },
   "source": [
    "This dataset contains CO2 emissions data for countries around the world. The data for certain countries goes as far back as 1751. For the purposes of our project and keeping in alignment with the other datasets we will reduce the scope to 2005 - 2014. We will plot the emissions data for 3 years in our range: 2005, 2010, and 2014. We will do this by continent and then zoom in on certain continents."
   ]
  },
  {
   "cell_type": "markdown",
   "metadata": {
    "id": "9BiLNdP16h4K"
   },
   "source": [
    "Reading in the emissions data"
   ]
  },
  {
   "cell_type": "code",
   "execution_count": 50,
   "metadata": {
    "id": "cWMVicDP6k90"
   },
   "outputs": [],
   "source": [
    "emissions_data=pd.read_csv('fossil-fuel-co2-emissions-by-nation_csv.csv')"
   ]
  },
  {
   "cell_type": "markdown",
   "metadata": {
    "id": "1BB6rLxq6oTq"
   },
   "source": [
    "Have a look at what the data looks like:"
   ]
  },
  {
   "cell_type": "code",
   "execution_count": 51,
   "metadata": {
    "id": "kUPMdTIx6pUo"
   },
   "outputs": [
    {
     "data": {
      "text/html": [
       "<div>\n",
       "<style scoped>\n",
       "    .dataframe tbody tr th:only-of-type {\n",
       "        vertical-align: middle;\n",
       "    }\n",
       "\n",
       "    .dataframe tbody tr th {\n",
       "        vertical-align: top;\n",
       "    }\n",
       "\n",
       "    .dataframe thead th {\n",
       "        text-align: right;\n",
       "    }\n",
       "</style>\n",
       "<table border=\"1\" class=\"dataframe\">\n",
       "  <thead>\n",
       "    <tr style=\"text-align: right;\">\n",
       "      <th></th>\n",
       "      <th>Year</th>\n",
       "      <th>Country</th>\n",
       "      <th>Total</th>\n",
       "      <th>Solid Fuel</th>\n",
       "      <th>Liquid Fuel</th>\n",
       "      <th>Gas Fuel</th>\n",
       "      <th>Cement</th>\n",
       "      <th>Gas Flaring</th>\n",
       "      <th>Per Capita</th>\n",
       "      <th>Bunker fuels (Not in Total)</th>\n",
       "    </tr>\n",
       "  </thead>\n",
       "  <tbody>\n",
       "    <tr>\n",
       "      <th>0</th>\n",
       "      <td>1751</td>\n",
       "      <td>UNITED KINGDOM</td>\n",
       "      <td>2552</td>\n",
       "      <td>2552</td>\n",
       "      <td>0</td>\n",
       "      <td>0</td>\n",
       "      <td>0</td>\n",
       "      <td>0</td>\n",
       "      <td>0.0</td>\n",
       "      <td>0</td>\n",
       "    </tr>\n",
       "    <tr>\n",
       "      <th>1</th>\n",
       "      <td>1752</td>\n",
       "      <td>UNITED KINGDOM</td>\n",
       "      <td>2553</td>\n",
       "      <td>2553</td>\n",
       "      <td>0</td>\n",
       "      <td>0</td>\n",
       "      <td>0</td>\n",
       "      <td>0</td>\n",
       "      <td>0.0</td>\n",
       "      <td>0</td>\n",
       "    </tr>\n",
       "    <tr>\n",
       "      <th>2</th>\n",
       "      <td>1753</td>\n",
       "      <td>UNITED KINGDOM</td>\n",
       "      <td>2553</td>\n",
       "      <td>2553</td>\n",
       "      <td>0</td>\n",
       "      <td>0</td>\n",
       "      <td>0</td>\n",
       "      <td>0</td>\n",
       "      <td>0.0</td>\n",
       "      <td>0</td>\n",
       "    </tr>\n",
       "    <tr>\n",
       "      <th>3</th>\n",
       "      <td>1754</td>\n",
       "      <td>UNITED KINGDOM</td>\n",
       "      <td>2554</td>\n",
       "      <td>2554</td>\n",
       "      <td>0</td>\n",
       "      <td>0</td>\n",
       "      <td>0</td>\n",
       "      <td>0</td>\n",
       "      <td>0.0</td>\n",
       "      <td>0</td>\n",
       "    </tr>\n",
       "    <tr>\n",
       "      <th>4</th>\n",
       "      <td>1755</td>\n",
       "      <td>UNITED KINGDOM</td>\n",
       "      <td>2555</td>\n",
       "      <td>2555</td>\n",
       "      <td>0</td>\n",
       "      <td>0</td>\n",
       "      <td>0</td>\n",
       "      <td>0</td>\n",
       "      <td>0.0</td>\n",
       "      <td>0</td>\n",
       "    </tr>\n",
       "  </tbody>\n",
       "</table>\n",
       "</div>"
      ],
      "text/plain": [
       "   Year         Country  Total  Solid Fuel  Liquid Fuel  Gas Fuel  Cement  \\\n",
       "0  1751  UNITED KINGDOM   2552        2552            0         0       0   \n",
       "1  1752  UNITED KINGDOM   2553        2553            0         0       0   \n",
       "2  1753  UNITED KINGDOM   2553        2553            0         0       0   \n",
       "3  1754  UNITED KINGDOM   2554        2554            0         0       0   \n",
       "4  1755  UNITED KINGDOM   2555        2555            0         0       0   \n",
       "\n",
       "   Gas Flaring  Per Capita  Bunker fuels (Not in Total)  \n",
       "0            0         0.0                            0  \n",
       "1            0         0.0                            0  \n",
       "2            0         0.0                            0  \n",
       "3            0         0.0                            0  \n",
       "4            0         0.0                            0  "
      ]
     },
     "execution_count": 51,
     "metadata": {},
     "output_type": "execute_result"
    }
   ],
   "source": [
    "emissions_data.head()"
   ]
  },
  {
   "cell_type": "markdown",
   "metadata": {
    "id": "rq0nYOaC6rbE"
   },
   "source": [
    "Check if we have any missing values in our columns:"
   ]
  },
  {
   "cell_type": "code",
   "execution_count": 52,
   "metadata": {
    "id": "G5p0Jnha6wFX"
   },
   "outputs": [
    {
     "data": {
      "text/plain": [
       "Year                           0.0\n",
       "Country                        0.0\n",
       "Total                          0.0\n",
       "Solid Fuel                     0.0\n",
       "Liquid Fuel                    0.0\n",
       "Gas Fuel                       0.0\n",
       "Cement                         0.0\n",
       "Gas Flaring                    0.0\n",
       "Per Capita                     0.0\n",
       "Bunker fuels (Not in Total)    0.0\n",
       "dtype: float64"
      ]
     },
     "execution_count": 52,
     "metadata": {},
     "output_type": "execute_result"
    }
   ],
   "source": [
    "emissions_data.isna().sum()/emissions_data.shape[0]"
   ]
  },
  {
   "cell_type": "markdown",
   "metadata": {
    "id": "nH8hWSRd6v11"
   },
   "source": [
    "There are no missing values in the data so there is no need for data imputation. We will need to see what values/ranges there are in the columns. "
   ]
  },
  {
   "cell_type": "markdown",
   "metadata": {
    "id": "yWd8DQA66y3d"
   },
   "source": [
    "Let's check the data types of our columns:"
   ]
  },
  {
   "cell_type": "code",
   "execution_count": 53,
   "metadata": {
    "id": "hbYfeQd0ApJg"
   },
   "outputs": [
    {
     "data": {
      "text/plain": [
       "Year                             int64\n",
       "Country                         object\n",
       "Total                            int64\n",
       "Solid Fuel                       int64\n",
       "Liquid Fuel                      int64\n",
       "Gas Fuel                         int64\n",
       "Cement                           int64\n",
       "Gas Flaring                      int64\n",
       "Per Capita                     float64\n",
       "Bunker fuels (Not in Total)      int64\n",
       "dtype: object"
      ]
     },
     "execution_count": 53,
     "metadata": {},
     "output_type": "execute_result"
    }
   ],
   "source": [
    "emissions_data.dtypes"
   ]
  },
  {
   "cell_type": "markdown",
   "metadata": {
    "id": "9Cxdixc27WFe"
   },
   "source": [
    "We're happy with the data types so we won't make any changes. We will need to filter the year later, and keeping it in int format will make that easier."
   ]
  },
  {
   "cell_type": "code",
   "execution_count": 54,
   "metadata": {
    "id": "2SwPgXwp7XE-"
   },
   "outputs": [],
   "source": [
    "emission_list_of_countries_original = sorted(emissions_data['Country'].unique())"
   ]
  },
  {
   "cell_type": "markdown",
   "metadata": {
    "id": "mC2eR6Rj7YZb"
   },
   "source": [
    "We want to filter to the time range in question: 2004 - 2014:"
   ]
  },
  {
   "cell_type": "code",
   "execution_count": 55,
   "metadata": {
    "id": "7h5vnanJ7aDa"
   },
   "outputs": [
    {
     "data": {
      "text/html": [
       "<div>\n",
       "<style scoped>\n",
       "    .dataframe tbody tr th:only-of-type {\n",
       "        vertical-align: middle;\n",
       "    }\n",
       "\n",
       "    .dataframe tbody tr th {\n",
       "        vertical-align: top;\n",
       "    }\n",
       "\n",
       "    .dataframe thead th {\n",
       "        text-align: right;\n",
       "    }\n",
       "</style>\n",
       "<table border=\"1\" class=\"dataframe\">\n",
       "  <thead>\n",
       "    <tr style=\"text-align: right;\">\n",
       "      <th></th>\n",
       "      <th>Year</th>\n",
       "      <th>Country</th>\n",
       "      <th>Total</th>\n",
       "      <th>Solid Fuel</th>\n",
       "      <th>Liquid Fuel</th>\n",
       "      <th>Gas Fuel</th>\n",
       "      <th>Cement</th>\n",
       "      <th>Gas Flaring</th>\n",
       "      <th>Per Capita</th>\n",
       "      <th>Bunker fuels (Not in Total)</th>\n",
       "    </tr>\n",
       "  </thead>\n",
       "  <tbody>\n",
       "    <tr>\n",
       "      <th>16115</th>\n",
       "      <td>2009</td>\n",
       "      <td>TOGO</td>\n",
       "      <td>759</td>\n",
       "      <td>0</td>\n",
       "      <td>599</td>\n",
       "      <td>0</td>\n",
       "      <td>160</td>\n",
       "      <td>0</td>\n",
       "      <td>0.12</td>\n",
       "      <td>68</td>\n",
       "    </tr>\n",
       "    <tr>\n",
       "      <th>16483</th>\n",
       "      <td>2011</td>\n",
       "      <td>MONTSERRAT</td>\n",
       "      <td>11</td>\n",
       "      <td>0</td>\n",
       "      <td>11</td>\n",
       "      <td>0</td>\n",
       "      <td>0</td>\n",
       "      <td>0</td>\n",
       "      <td>2.18</td>\n",
       "      <td>1</td>\n",
       "    </tr>\n",
       "    <tr>\n",
       "      <th>15427</th>\n",
       "      <td>2006</td>\n",
       "      <td>REPUBLIC OF KOREA</td>\n",
       "      <td>128349</td>\n",
       "      <td>54413</td>\n",
       "      <td>48666</td>\n",
       "      <td>17930</td>\n",
       "      <td>7340</td>\n",
       "      <td>0</td>\n",
       "      <td>2.72</td>\n",
       "      <td>11158</td>\n",
       "    </tr>\n",
       "    <tr>\n",
       "      <th>15269</th>\n",
       "      <td>2006</td>\n",
       "      <td>AFGHANISTAN</td>\n",
       "      <td>450</td>\n",
       "      <td>44</td>\n",
       "      <td>310</td>\n",
       "      <td>90</td>\n",
       "      <td>7</td>\n",
       "      <td>0</td>\n",
       "      <td>0.02</td>\n",
       "      <td>9</td>\n",
       "    </tr>\n",
       "    <tr>\n",
       "      <th>16180</th>\n",
       "      <td>2010</td>\n",
       "      <td>COOK ISLANDS</td>\n",
       "      <td>19</td>\n",
       "      <td>0</td>\n",
       "      <td>19</td>\n",
       "      <td>0</td>\n",
       "      <td>0</td>\n",
       "      <td>0</td>\n",
       "      <td>0.95</td>\n",
       "      <td>2</td>\n",
       "    </tr>\n",
       "    <tr>\n",
       "      <th>...</th>\n",
       "      <td>...</td>\n",
       "      <td>...</td>\n",
       "      <td>...</td>\n",
       "      <td>...</td>\n",
       "      <td>...</td>\n",
       "      <td>...</td>\n",
       "      <td>...</td>\n",
       "      <td>...</td>\n",
       "      <td>...</td>\n",
       "      <td>...</td>\n",
       "    </tr>\n",
       "    <tr>\n",
       "      <th>15248</th>\n",
       "      <td>2005</td>\n",
       "      <td>TUNISIA</td>\n",
       "      <td>6180</td>\n",
       "      <td>0</td>\n",
       "      <td>3360</td>\n",
       "      <td>1831</td>\n",
       "      <td>910</td>\n",
       "      <td>79</td>\n",
       "      <td>0.62</td>\n",
       "      <td>0</td>\n",
       "    </tr>\n",
       "    <tr>\n",
       "      <th>16822</th>\n",
       "      <td>2013</td>\n",
       "      <td>BURKINA FASO</td>\n",
       "      <td>834</td>\n",
       "      <td>0</td>\n",
       "      <td>755</td>\n",
       "      <td>0</td>\n",
       "      <td>79</td>\n",
       "      <td>0</td>\n",
       "      <td>0.05</td>\n",
       "      <td>47</td>\n",
       "    </tr>\n",
       "    <tr>\n",
       "      <th>16725</th>\n",
       "      <td>2012</td>\n",
       "      <td>PHILIPPINES</td>\n",
       "      <td>24872</td>\n",
       "      <td>8855</td>\n",
       "      <td>11449</td>\n",
       "      <td>1996</td>\n",
       "      <td>2571</td>\n",
       "      <td>0</td>\n",
       "      <td>0.26</td>\n",
       "      <td>1099</td>\n",
       "    </tr>\n",
       "    <tr>\n",
       "      <th>15210</th>\n",
       "      <td>2005</td>\n",
       "      <td>REPUBLIC OF KOREA</td>\n",
       "      <td>126240</td>\n",
       "      <td>51026</td>\n",
       "      <td>51127</td>\n",
       "      <td>17098</td>\n",
       "      <td>6989</td>\n",
       "      <td>0</td>\n",
       "      <td>2.68</td>\n",
       "      <td>10717</td>\n",
       "    </tr>\n",
       "    <tr>\n",
       "      <th>15221</th>\n",
       "      <td>2005</td>\n",
       "      <td>SENEGAL</td>\n",
       "      <td>1585</td>\n",
       "      <td>101</td>\n",
       "      <td>1120</td>\n",
       "      <td>7</td>\n",
       "      <td>357</td>\n",
       "      <td>0</td>\n",
       "      <td>0.15</td>\n",
       "      <td>194</td>\n",
       "    </tr>\n",
       "  </tbody>\n",
       "</table>\n",
       "<p>100 rows × 10 columns</p>\n",
       "</div>"
      ],
      "text/plain": [
       "       Year            Country   Total  Solid Fuel  Liquid Fuel  Gas Fuel  \\\n",
       "16115  2009               TOGO     759           0          599         0   \n",
       "16483  2011         MONTSERRAT      11           0           11         0   \n",
       "15427  2006  REPUBLIC OF KOREA  128349       54413        48666     17930   \n",
       "15269  2006        AFGHANISTAN     450          44          310        90   \n",
       "16180  2010       COOK ISLANDS      19           0           19         0   \n",
       "...     ...                ...     ...         ...          ...       ...   \n",
       "15248  2005            TUNISIA    6180           0         3360      1831   \n",
       "16822  2013       BURKINA FASO     834           0          755         0   \n",
       "16725  2012        PHILIPPINES   24872        8855        11449      1996   \n",
       "15210  2005  REPUBLIC OF KOREA  126240       51026        51127     17098   \n",
       "15221  2005            SENEGAL    1585         101         1120         7   \n",
       "\n",
       "       Cement  Gas Flaring  Per Capita  Bunker fuels (Not in Total)  \n",
       "16115     160            0        0.12                           68  \n",
       "16483       0            0        2.18                            1  \n",
       "15427    7340            0        2.72                        11158  \n",
       "15269       7            0        0.02                            9  \n",
       "16180       0            0        0.95                            2  \n",
       "...       ...          ...         ...                          ...  \n",
       "15248     910           79        0.62                            0  \n",
       "16822      79            0        0.05                           47  \n",
       "16725    2571            0        0.26                         1099  \n",
       "15210    6989            0        2.68                        10717  \n",
       "15221     357            0        0.15                          194  \n",
       "\n",
       "[100 rows x 10 columns]"
      ]
     },
     "execution_count": 55,
     "metadata": {},
     "output_type": "execute_result"
    }
   ],
   "source": [
    "emissions_data = emissions_data[(emissions_data[['Year']] > 2004  ).all(axis=1)]\n",
    "emissions_data = emissions_data[(emissions_data[['Year']] < 2015  ).all(axis=1)]\n",
    "emissions_data.sample(100)"
   ]
  },
  {
   "cell_type": "code",
   "execution_count": 56,
   "metadata": {
    "id": "UH9IMeFt7ejT"
   },
   "outputs": [],
   "source": [
    "emissions_list_of_countries_filtered = sorted(emissions_data['Country'].unique())"
   ]
  },
  {
   "cell_type": "code",
   "execution_count": 57,
   "metadata": {
    "id": "1fEafb2Q7j2A"
   },
   "outputs": [
    {
     "data": {
      "text/plain": [
       "224"
      ]
     },
     "execution_count": 57,
     "metadata": {},
     "output_type": "execute_result"
    }
   ],
   "source": [
    "len(emissions_list_of_countries_filtered)"
   ]
  },
  {
   "cell_type": "markdown",
   "metadata": {
    "id": "lDaixCkF7mZv"
   },
   "source": [
    "We'll briefly swap over to our map plotting data to see which countries we have there:"
   ]
  },
  {
   "cell_type": "code",
   "execution_count": 59,
   "metadata": {
    "id": "M-wHb0-6A8Yc"
   },
   "outputs": [
    {
     "data": {
      "text/html": [
       "<div>\n",
       "<style scoped>\n",
       "    .dataframe tbody tr th:only-of-type {\n",
       "        vertical-align: middle;\n",
       "    }\n",
       "\n",
       "    .dataframe tbody tr th {\n",
       "        vertical-align: top;\n",
       "    }\n",
       "\n",
       "    .dataframe thead th {\n",
       "        text-align: right;\n",
       "    }\n",
       "</style>\n",
       "<table border=\"1\" class=\"dataframe\">\n",
       "  <thead>\n",
       "    <tr style=\"text-align: right;\">\n",
       "      <th></th>\n",
       "      <th>FID</th>\n",
       "      <th>COUNTRY</th>\n",
       "      <th>ISO</th>\n",
       "      <th>COUNTRYAFF</th>\n",
       "      <th>AFF_ISO</th>\n",
       "      <th>SHAPE_Leng</th>\n",
       "      <th>SHAPE_Area</th>\n",
       "      <th>geometry</th>\n",
       "    </tr>\n",
       "  </thead>\n",
       "  <tbody>\n",
       "    <tr>\n",
       "      <th>0</th>\n",
       "      <td>1</td>\n",
       "      <td>Afghanistan</td>\n",
       "      <td>AF</td>\n",
       "      <td>Afghanistan</td>\n",
       "      <td>AF</td>\n",
       "      <td>50.803210</td>\n",
       "      <td>62.566714</td>\n",
       "      <td>POLYGON ((61.27655 35.60725, 61.29638 35.62854...</td>\n",
       "    </tr>\n",
       "    <tr>\n",
       "      <th>1</th>\n",
       "      <td>2</td>\n",
       "      <td>Albania</td>\n",
       "      <td>AL</td>\n",
       "      <td>Albania</td>\n",
       "      <td>AL</td>\n",
       "      <td>9.625038</td>\n",
       "      <td>3.073540</td>\n",
       "      <td>POLYGON ((19.57083 41.68527, 19.58195 41.69569...</td>\n",
       "    </tr>\n",
       "    <tr>\n",
       "      <th>2</th>\n",
       "      <td>3</td>\n",
       "      <td>Algeria</td>\n",
       "      <td>DZ</td>\n",
       "      <td>Algeria</td>\n",
       "      <td>DZ</td>\n",
       "      <td>70.540082</td>\n",
       "      <td>213.513461</td>\n",
       "      <td>POLYGON ((4.60335 36.88791, 4.63555 36.88638, ...</td>\n",
       "    </tr>\n",
       "    <tr>\n",
       "      <th>3</th>\n",
       "      <td>4</td>\n",
       "      <td>American Samoa</td>\n",
       "      <td>AS</td>\n",
       "      <td>United States</td>\n",
       "      <td>US</td>\n",
       "      <td>0.600124</td>\n",
       "      <td>0.013720</td>\n",
       "      <td>POLYGON ((-170.74390 -14.37555, -170.74942 -14...</td>\n",
       "    </tr>\n",
       "    <tr>\n",
       "      <th>4</th>\n",
       "      <td>5</td>\n",
       "      <td>Andorra</td>\n",
       "      <td>AD</td>\n",
       "      <td>Andorra</td>\n",
       "      <td>AD</td>\n",
       "      <td>0.937352</td>\n",
       "      <td>0.055585</td>\n",
       "      <td>POLYGON ((1.44584 42.60194, 1.48653 42.65042, ...</td>\n",
       "    </tr>\n",
       "    <tr>\n",
       "      <th>...</th>\n",
       "      <td>...</td>\n",
       "      <td>...</td>\n",
       "      <td>...</td>\n",
       "      <td>...</td>\n",
       "      <td>...</td>\n",
       "      <td>...</td>\n",
       "      <td>...</td>\n",
       "      <td>...</td>\n",
       "    </tr>\n",
       "    <tr>\n",
       "      <th>246</th>\n",
       "      <td>247</td>\n",
       "      <td>Vietnam</td>\n",
       "      <td>VN</td>\n",
       "      <td>Viet Nam</td>\n",
       "      <td>VN</td>\n",
       "      <td>66.866802</td>\n",
       "      <td>27.556082</td>\n",
       "      <td>MULTIPOLYGON (((107.07896 17.10804, 107.08333 ...</td>\n",
       "    </tr>\n",
       "    <tr>\n",
       "      <th>247</th>\n",
       "      <td>248</td>\n",
       "      <td>Wallis and Futuna</td>\n",
       "      <td>WF</td>\n",
       "      <td>France</td>\n",
       "      <td>FR</td>\n",
       "      <td>0.700608</td>\n",
       "      <td>0.013414</td>\n",
       "      <td>MULTIPOLYGON (((-178.06082 -14.32389, -178.137...</td>\n",
       "    </tr>\n",
       "    <tr>\n",
       "      <th>248</th>\n",
       "      <td>249</td>\n",
       "      <td>Yemen</td>\n",
       "      <td>YE</td>\n",
       "      <td>Yemen</td>\n",
       "      <td>YE</td>\n",
       "      <td>34.011327</td>\n",
       "      <td>38.289871</td>\n",
       "      <td>MULTIPOLYGON (((47.25445 13.61528, 47.16888 13...</td>\n",
       "    </tr>\n",
       "    <tr>\n",
       "      <th>249</th>\n",
       "      <td>250</td>\n",
       "      <td>Zambia</td>\n",
       "      <td>ZM</td>\n",
       "      <td>Zambia</td>\n",
       "      <td>ZM</td>\n",
       "      <td>49.141439</td>\n",
       "      <td>62.814022</td>\n",
       "      <td>POLYGON ((30.21302 -14.98172, 30.21916 -15.096...</td>\n",
       "    </tr>\n",
       "    <tr>\n",
       "      <th>250</th>\n",
       "      <td>251</td>\n",
       "      <td>Zimbabwe</td>\n",
       "      <td>ZW</td>\n",
       "      <td>Zimbabwe</td>\n",
       "      <td>ZW</td>\n",
       "      <td>26.298426</td>\n",
       "      <td>33.463130</td>\n",
       "      <td>POLYGON ((32.48887 -21.34445, 32.46541 -21.325...</td>\n",
       "    </tr>\n",
       "  </tbody>\n",
       "</table>\n",
       "<p>251 rows × 8 columns</p>\n",
       "</div>"
      ],
      "text/plain": [
       "     FID            COUNTRY ISO     COUNTRYAFF AFF_ISO  SHAPE_Leng  \\\n",
       "0      1        Afghanistan  AF    Afghanistan      AF   50.803210   \n",
       "1      2            Albania  AL        Albania      AL    9.625038   \n",
       "2      3            Algeria  DZ        Algeria      DZ   70.540082   \n",
       "3      4     American Samoa  AS  United States      US    0.600124   \n",
       "4      5            Andorra  AD        Andorra      AD    0.937352   \n",
       "..   ...                ...  ..            ...     ...         ...   \n",
       "246  247            Vietnam  VN       Viet Nam      VN   66.866802   \n",
       "247  248  Wallis and Futuna  WF         France      FR    0.700608   \n",
       "248  249              Yemen  YE          Yemen      YE   34.011327   \n",
       "249  250             Zambia  ZM         Zambia      ZM   49.141439   \n",
       "250  251           Zimbabwe  ZW       Zimbabwe      ZW   26.298426   \n",
       "\n",
       "     SHAPE_Area                                           geometry  \n",
       "0     62.566714  POLYGON ((61.27655 35.60725, 61.29638 35.62854...  \n",
       "1      3.073540  POLYGON ((19.57083 41.68527, 19.58195 41.69569...  \n",
       "2    213.513461  POLYGON ((4.60335 36.88791, 4.63555 36.88638, ...  \n",
       "3      0.013720  POLYGON ((-170.74390 -14.37555, -170.74942 -14...  \n",
       "4      0.055585  POLYGON ((1.44584 42.60194, 1.48653 42.65042, ...  \n",
       "..          ...                                                ...  \n",
       "246   27.556082  MULTIPOLYGON (((107.07896 17.10804, 107.08333 ...  \n",
       "247    0.013414  MULTIPOLYGON (((-178.06082 -14.32389, -178.137...  \n",
       "248   38.289871  MULTIPOLYGON (((47.25445 13.61528, 47.16888 13...  \n",
       "249   62.814022  POLYGON ((30.21302 -14.98172, 30.21916 -15.096...  \n",
       "250   33.463130  POLYGON ((32.48887 -21.34445, 32.46541 -21.325...  \n",
       "\n",
       "[251 rows x 8 columns]"
      ]
     },
     "execution_count": 59,
     "metadata": {},
     "output_type": "execute_result"
    }
   ],
   "source": [
    "map_df = gpd.read_file(\"World_Countries_(Generalized)/World_Countries__Generalized_.shx\")\n",
    "map_df"
   ]
  },
  {
   "cell_type": "markdown",
   "metadata": {
    "id": "eO1lqJfz8VPY"
   },
   "source": [
    "Create a list of the countries in the map dataset (capitalized)"
   ]
  },
  {
   "cell_type": "code",
   "execution_count": 60,
   "metadata": {
    "id": "0AL28NYD8Vld"
   },
   "outputs": [],
   "source": [
    "map_countries_original = map_df['COUNTRY']\n",
    "map_countries_capitalize=[]\n",
    "for country in map_countries_original:\n",
    "    map_countries_capitalize.append(country.upper())"
   ]
  },
  {
   "cell_type": "markdown",
   "metadata": {
    "id": "ZUfRD5Er8dcQ"
   },
   "source": [
    "First we find the countries in the emissions data, that are not in the map data:"
   ]
  },
  {
   "cell_type": "code",
   "execution_count": 61,
   "metadata": {
    "id": "-AESQUXF8ej4"
   },
   "outputs": [
    {
     "data": {
      "text/plain": [
       "['ANTARCTIC FISHERIES',\n",
       " 'ANTIGUA & BARBUDA',\n",
       " 'BONAIRE, SAINT EUSTATIUS, AND SABA',\n",
       " 'BOSNIA & HERZEGOVINA',\n",
       " 'BRUNEI (DARUSSALAM)',\n",
       " 'CAPE VERDE',\n",
       " 'CHINA (MAINLAND)',\n",
       " 'COTE D IVOIRE',\n",
       " 'DEMOCRATIC PEOPLE S REPUBLIC OF KOREA',\n",
       " 'DEMOCRATIC REPUBLIC OF THE CONGO (FORMERLY ZAIRE)',\n",
       " 'FAEROE ISLANDS',\n",
       " 'FALKLAND ISLANDS (MALVINAS)',\n",
       " 'FEDERATED STATES OF MICRONESIA',\n",
       " 'FRANCE (INCLUDING MONACO)',\n",
       " 'GUINEA BISSAU',\n",
       " 'HONG KONG SPECIAL ADMINSTRATIVE REGION OF CHINA',\n",
       " 'ISLAMIC REPUBLIC OF IRAN',\n",
       " 'ITALY (INCLUDING SAN MARINO)',\n",
       " 'LAO PEOPLE S DEMOCRATIC REPUBLIC',\n",
       " 'LIBYAN ARAB JAMAHIRIYAH',\n",
       " 'MACAU SPECIAL ADMINSTRATIVE REGION OF CHINA',\n",
       " 'MACEDONIA',\n",
       " 'MYANMAR (FORMERLY BURMA)',\n",
       " 'NETHERLAND ANTILLES',\n",
       " 'OCCUPIED PALESTINIAN TERRITORY',\n",
       " 'PLURINATIONAL STATE OF BOLIVIA',\n",
       " 'REPUBLIC OF CAMEROON',\n",
       " 'REPUBLIC OF KOREA',\n",
       " 'REPUBLIC OF MOLDOVA',\n",
       " 'REPUBLIC OF SOUTH SUDAN',\n",
       " 'REPUBLIC OF SUDAN',\n",
       " 'REUNION',\n",
       " 'SAINT MARTIN (DUTCH PORTION)',\n",
       " 'SAO TOME & PRINCIPE',\n",
       " 'ST. KITTS-NEVIS',\n",
       " 'ST. PIERRE & MIQUELON',\n",
       " 'ST. VINCENT & THE GRENADINES',\n",
       " 'SWAZILAND',\n",
       " 'SYRIAN ARAB REPUBLIC',\n",
       " 'TAIWAN',\n",
       " 'TIMOR-LESTE (FORMERLY EAST TIMOR)',\n",
       " 'TURKEY',\n",
       " 'UNITED REPUBLIC OF TANZANIA',\n",
       " 'UNITED STATES OF AMERICA',\n",
       " 'VIET NAM',\n",
       " 'WALLIS AND FUTUNA ISLANDS',\n",
       " 'YUGOSLAVIA (MONTENEGRO & SERBIA)']"
      ]
     },
     "execution_count": 61,
     "metadata": {},
     "output_type": "execute_result"
    }
   ],
   "source": [
    "missing_list=[]\n",
    "for country in emissions_list_of_countries_filtered:\n",
    "    if country not in map_countries_capitalize:\n",
    "        missing_list.append(country)\n",
    "missing_list"
   ]
  },
  {
   "cell_type": "markdown",
   "metadata": {
    "id": "Tk9RW1CY8j6t"
   },
   "source": [
    "After looking through the missing countries we find that a majority of them just need their names adjusted slightly. However there are a small amount that need to be removed from the emissions data since they won't be plotted:"
   ]
  },
  {
   "cell_type": "code",
   "execution_count": 62,
   "metadata": {
    "id": "EHQOYZVG8lOR"
   },
   "outputs": [
    {
     "data": {
      "text/plain": [
       "['HONG KONG SPECIAL ADMINSTRATIVE REGION OF CHINA',\n",
       " 'MACAU SPECIAL ADMINSTRATIVE REGION OF CHINA',\n",
       " 'MACEDONIA',\n",
       " 'NETHERLAND ANTILLES',\n",
       " 'SWAZILAND',\n",
       " 'TAIWAN',\n",
       " 'YUGOSLAVIA (MONTENEGRO & SERBIA)']"
      ]
     },
     "execution_count": 62,
     "metadata": {},
     "output_type": "execute_result"
    }
   ],
   "source": [
    "my_file = open(\"countries_to_remove.txt\", \"r\")\n",
    "countries_to_remove_temp = my_file.read()\n",
    "countries_to_remove =  countries_to_remove_temp.split('\\n')\n",
    "countries_to_remove"
   ]
  },
  {
   "cell_type": "code",
   "execution_count": 63,
   "metadata": {
    "id": "1mxYkHDU8m9v"
   },
   "outputs": [],
   "source": [
    "emissions_data = emissions_data[~emissions_data.Country.isin(countries_to_remove)]"
   ]
  },
  {
   "cell_type": "code",
   "execution_count": 64,
   "metadata": {
    "id": "nQiHvgzO9Lxo"
   },
   "outputs": [
    {
     "data": {
      "text/plain": [
       "217"
      ]
     },
     "execution_count": 64,
     "metadata": {},
     "output_type": "execute_result"
    }
   ],
   "source": [
    "len(emissions_data['Country'].unique())"
   ]
  },
  {
   "cell_type": "code",
   "execution_count": 65,
   "metadata": {
    "id": "oiSg4u2K9N7f"
   },
   "outputs": [],
   "source": [
    "emissions_list_of_countries_filtered= emissions_data['Country'].unique()"
   ]
  },
  {
   "cell_type": "markdown",
   "metadata": {
    "id": "nRXvfYtO8ml5"
   },
   "source": [
    "Now we have to adjust the names of the countries in the emissions data to match the labels in the map data:"
   ]
  },
  {
   "cell_type": "markdown",
   "metadata": {
    "id": "1s4NPBjC8lya"
   },
   "source": [
    "\n",
    "This first file contains the keys of the change dictionary. These are the previous names:"
   ]
  },
  {
   "cell_type": "code",
   "execution_count": 66,
   "metadata": {
    "id": "5e9vJQTZ9XEb"
   },
   "outputs": [],
   "source": [
    "label_change_dict_key_temp = open(\"a.txt\", \"r\")\n",
    "label_change_dict_key = label_change_dict_key_temp.read()\n",
    "label_change_dict_key =  label_change_dict_key.split('\\n')"
   ]
  },
  {
   "cell_type": "markdown",
   "metadata": {
    "id": "Dy_xIghE9lx0"
   },
   "source": [
    "The second file contains the new labels for the countries:"
   ]
  },
  {
   "cell_type": "code",
   "execution_count": 67,
   "metadata": {
    "id": "zYRkagJB9mYC"
   },
   "outputs": [],
   "source": [
    "label_change_dict_value_temp = open(\"b.txt\", \"r\")\n",
    "label_change_dict_value = label_change_dict_value_temp.read()\n",
    "label_change_dict_value =  label_change_dict_value.split('\\n')"
   ]
  },
  {
   "cell_type": "markdown",
   "metadata": {
    "id": "Jll03O1m92jj"
   },
   "source": [
    "Now we create our label change dictionary:"
   ]
  },
  {
   "cell_type": "code",
   "execution_count": 68,
   "metadata": {
    "id": "mZVQ3VJ49693"
   },
   "outputs": [],
   "source": [
    "index =0 \n",
    "label_change_dict={}\n",
    "for label_key in label_change_dict_key:\n",
    "    label_change_dict[label_key]=label_change_dict_value[index].upper()\n",
    "    index +=1"
   ]
  },
  {
   "cell_type": "code",
   "execution_count": 69,
   "metadata": {
    "id": "yfeohQnY98b1"
   },
   "outputs": [
    {
     "data": {
      "text/plain": [
       "217"
      ]
     },
     "execution_count": 69,
     "metadata": {},
     "output_type": "execute_result"
    }
   ],
   "source": [
    "len(emissions_data['Country'].unique())"
   ]
  },
  {
   "cell_type": "markdown",
   "metadata": {
    "id": "N0izmlUZ9_Rh"
   },
   "source": [
    "Finally, we apply the changes to the emissions dataframe:"
   ]
  },
  {
   "cell_type": "code",
   "execution_count": 70,
   "metadata": {
    "id": "tHWtIwPB-Kzq"
   },
   "outputs": [
    {
     "data": {
      "text/html": [
       "<div>\n",
       "<style scoped>\n",
       "    .dataframe tbody tr th:only-of-type {\n",
       "        vertical-align: middle;\n",
       "    }\n",
       "\n",
       "    .dataframe tbody tr th {\n",
       "        vertical-align: top;\n",
       "    }\n",
       "\n",
       "    .dataframe thead th {\n",
       "        text-align: right;\n",
       "    }\n",
       "</style>\n",
       "<table border=\"1\" class=\"dataframe\">\n",
       "  <thead>\n",
       "    <tr style=\"text-align: right;\">\n",
       "      <th></th>\n",
       "      <th>Year</th>\n",
       "      <th>Country</th>\n",
       "      <th>Total</th>\n",
       "      <th>Solid Fuel</th>\n",
       "      <th>Liquid Fuel</th>\n",
       "      <th>Gas Fuel</th>\n",
       "      <th>Cement</th>\n",
       "      <th>Gas Flaring</th>\n",
       "      <th>Per Capita</th>\n",
       "      <th>Bunker fuels (Not in Total)</th>\n",
       "    </tr>\n",
       "  </thead>\n",
       "  <tbody>\n",
       "    <tr>\n",
       "      <th>15053</th>\n",
       "      <td>2005</td>\n",
       "      <td>AFGHANISTAN</td>\n",
       "      <td>362</td>\n",
       "      <td>29</td>\n",
       "      <td>235</td>\n",
       "      <td>90</td>\n",
       "      <td>8</td>\n",
       "      <td>0</td>\n",
       "      <td>0.01</td>\n",
       "      <td>9</td>\n",
       "    </tr>\n",
       "    <tr>\n",
       "      <th>15054</th>\n",
       "      <td>2005</td>\n",
       "      <td>ALBANIA</td>\n",
       "      <td>1160</td>\n",
       "      <td>20</td>\n",
       "      <td>1068</td>\n",
       "      <td>6</td>\n",
       "      <td>67</td>\n",
       "      <td>0</td>\n",
       "      <td>0.37</td>\n",
       "      <td>49</td>\n",
       "    </tr>\n",
       "    <tr>\n",
       "      <th>15055</th>\n",
       "      <td>2005</td>\n",
       "      <td>ALGERIA</td>\n",
       "      <td>29255</td>\n",
       "      <td>645</td>\n",
       "      <td>8475</td>\n",
       "      <td>16706</td>\n",
       "      <td>1741</td>\n",
       "      <td>1688</td>\n",
       "      <td>0.89</td>\n",
       "      <td>547</td>\n",
       "    </tr>\n",
       "    <tr>\n",
       "      <th>15056</th>\n",
       "      <td>2005</td>\n",
       "      <td>ANDORRA</td>\n",
       "      <td>157</td>\n",
       "      <td>0</td>\n",
       "      <td>157</td>\n",
       "      <td>0</td>\n",
       "      <td>0</td>\n",
       "      <td>0</td>\n",
       "      <td>2.02</td>\n",
       "      <td>0</td>\n",
       "    </tr>\n",
       "    <tr>\n",
       "      <th>15057</th>\n",
       "      <td>2005</td>\n",
       "      <td>ANGOLA</td>\n",
       "      <td>5224</td>\n",
       "      <td>0</td>\n",
       "      <td>1292</td>\n",
       "      <td>341</td>\n",
       "      <td>179</td>\n",
       "      <td>3412</td>\n",
       "      <td>0.32</td>\n",
       "      <td>246</td>\n",
       "    </tr>\n",
       "    <tr>\n",
       "      <th>...</th>\n",
       "      <td>...</td>\n",
       "      <td>...</td>\n",
       "      <td>...</td>\n",
       "      <td>...</td>\n",
       "      <td>...</td>\n",
       "      <td>...</td>\n",
       "      <td>...</td>\n",
       "      <td>...</td>\n",
       "      <td>...</td>\n",
       "      <td>...</td>\n",
       "    </tr>\n",
       "    <tr>\n",
       "      <th>17227</th>\n",
       "      <td>2014</td>\n",
       "      <td>VIETNAM</td>\n",
       "      <td>45517</td>\n",
       "      <td>19246</td>\n",
       "      <td>12694</td>\n",
       "      <td>5349</td>\n",
       "      <td>8229</td>\n",
       "      <td>0</td>\n",
       "      <td>0.49</td>\n",
       "      <td>761</td>\n",
       "    </tr>\n",
       "    <tr>\n",
       "      <th>17228</th>\n",
       "      <td>2014</td>\n",
       "      <td>WALLIS AND FUTUNA</td>\n",
       "      <td>6</td>\n",
       "      <td>0</td>\n",
       "      <td>6</td>\n",
       "      <td>0</td>\n",
       "      <td>0</td>\n",
       "      <td>0</td>\n",
       "      <td>0.44</td>\n",
       "      <td>1</td>\n",
       "    </tr>\n",
       "    <tr>\n",
       "      <th>17229</th>\n",
       "      <td>2014</td>\n",
       "      <td>YEMEN</td>\n",
       "      <td>6190</td>\n",
       "      <td>137</td>\n",
       "      <td>5090</td>\n",
       "      <td>581</td>\n",
       "      <td>381</td>\n",
       "      <td>0</td>\n",
       "      <td>0.24</td>\n",
       "      <td>153</td>\n",
       "    </tr>\n",
       "    <tr>\n",
       "      <th>17230</th>\n",
       "      <td>2014</td>\n",
       "      <td>ZAMBIA</td>\n",
       "      <td>1228</td>\n",
       "      <td>132</td>\n",
       "      <td>797</td>\n",
       "      <td>0</td>\n",
       "      <td>299</td>\n",
       "      <td>0</td>\n",
       "      <td>0.08</td>\n",
       "      <td>33</td>\n",
       "    </tr>\n",
       "    <tr>\n",
       "      <th>17231</th>\n",
       "      <td>2014</td>\n",
       "      <td>ZIMBABWE</td>\n",
       "      <td>3278</td>\n",
       "      <td>2097</td>\n",
       "      <td>1005</td>\n",
       "      <td>0</td>\n",
       "      <td>177</td>\n",
       "      <td>0</td>\n",
       "      <td>0.22</td>\n",
       "      <td>9</td>\n",
       "    </tr>\n",
       "  </tbody>\n",
       "</table>\n",
       "<p>2121 rows × 10 columns</p>\n",
       "</div>"
      ],
      "text/plain": [
       "       Year            Country  Total  Solid Fuel  Liquid Fuel  Gas Fuel  \\\n",
       "15053  2005        AFGHANISTAN    362          29          235        90   \n",
       "15054  2005            ALBANIA   1160          20         1068         6   \n",
       "15055  2005            ALGERIA  29255         645         8475     16706   \n",
       "15056  2005            ANDORRA    157           0          157         0   \n",
       "15057  2005             ANGOLA   5224           0         1292       341   \n",
       "...     ...                ...    ...         ...          ...       ...   \n",
       "17227  2014            VIETNAM  45517       19246        12694      5349   \n",
       "17228  2014  WALLIS AND FUTUNA      6           0            6         0   \n",
       "17229  2014              YEMEN   6190         137         5090       581   \n",
       "17230  2014             ZAMBIA   1228         132          797         0   \n",
       "17231  2014           ZIMBABWE   3278        2097         1005         0   \n",
       "\n",
       "       Cement  Gas Flaring  Per Capita  Bunker fuels (Not in Total)  \n",
       "15053       8            0        0.01                            9  \n",
       "15054      67            0        0.37                           49  \n",
       "15055    1741         1688        0.89                          547  \n",
       "15056       0            0        2.02                            0  \n",
       "15057     179         3412        0.32                          246  \n",
       "...       ...          ...         ...                          ...  \n",
       "17227    8229            0        0.49                          761  \n",
       "17228       0            0        0.44                            1  \n",
       "17229     381            0        0.24                          153  \n",
       "17230     299            0        0.08                           33  \n",
       "17231     177            0        0.22                            9  \n",
       "\n",
       "[2121 rows x 10 columns]"
      ]
     },
     "execution_count": 70,
     "metadata": {},
     "output_type": "execute_result"
    }
   ],
   "source": [
    "countries_to_change = list(label_change_dict.keys())\n",
    "new_country_column = []\n",
    "for i in range (0,emissions_data.shape[0]):\n",
    "    if emissions_data.iloc[i]['Country'] in countries_to_change:\n",
    "        new_country_column.append(label_change_dict[emissions_data.iloc[i]['Country']])\n",
    "    else:\n",
    "        new_country_column.append(emissions_data.iloc[i]['Country'].upper())\n",
    "emissions_data['Country'] = new_country_column\n",
    "emissions_data['Country'].unique()\n",
    "emissions_data"
   ]
  },
  {
   "cell_type": "code",
   "execution_count": 71,
   "metadata": {
    "id": "NSt3UVBd-Nfz"
   },
   "outputs": [],
   "source": [
    "emissions_list_of_countries_filtered = sorted(emissions_data['Country'].unique())"
   ]
  },
  {
   "cell_type": "markdown",
   "metadata": {
    "id": "PYvEoAPg-Q_Y"
   },
   "source": [
    "We want to plot the sum of emissions for each continent. In 'continent_list.txt' we have created a manual correlation between each country and it's associated continent. "
   ]
  },
  {
   "cell_type": "code",
   "execution_count": 72,
   "metadata": {
    "id": "68M0QYjP-Wz-"
   },
   "outputs": [
    {
     "data": {
      "text/plain": [
       "{'AFGHANISTAN': 'Asia',\n",
       " 'ALBANIA': 'Europe',\n",
       " 'ALGERIA': 'Africa',\n",
       " 'ANDORRA': 'Europe',\n",
       " 'ANGOLA': 'Africa',\n",
       " 'ANGUILLA': 'NA',\n",
       " 'ANTARCTICA': 'AA',\n",
       " 'ANTIGUA AND BARBUDA': 'NA',\n",
       " 'ARGENTINA': 'SA',\n",
       " 'ARMENIA': 'Europe',\n",
       " 'ARUBA': 'NA',\n",
       " 'AUSTRALIA': 'Oceania',\n",
       " 'AUSTRIA': 'Europe',\n",
       " 'AZERBAIJAN': 'Asia',\n",
       " 'BAHAMAS': 'NA',\n",
       " 'BAHRAIN': 'Asia',\n",
       " 'BANGLADESH': 'Asia',\n",
       " 'BARBADOS': 'NA',\n",
       " 'BELARUS': 'Europe',\n",
       " 'BELGIUM': 'Europe',\n",
       " 'BELIZE': 'NA',\n",
       " 'BENIN': 'Africa',\n",
       " 'BERMUDA': 'NA',\n",
       " 'BHUTAN': 'Asia',\n",
       " 'BOLIVIA': 'SA',\n",
       " 'BONAIRE': 'Europe',\n",
       " 'BOSNIA AND HERZEGOVINA': 'Europe',\n",
       " 'BOTSWANA': 'Africa',\n",
       " 'BRAZIL': 'SA',\n",
       " 'BRITISH VIRGIN ISLANDS': 'Asia',\n",
       " 'BRUNEI DARUSSALAM': 'Asia',\n",
       " 'BULGARIA': 'Europe',\n",
       " 'BURKINA FASO': 'Africa',\n",
       " 'BURUNDI': 'Africa',\n",
       " 'CABO VERDE': 'Africa',\n",
       " 'CAMBODIA': 'Asia',\n",
       " 'CAMEROON': 'Africa',\n",
       " 'CANADA': 'NA',\n",
       " 'CAYMAN ISLANDS': 'NA',\n",
       " 'CENTRAL AFRICAN REPUBLIC': 'Africa',\n",
       " 'CHAD': 'Africa',\n",
       " 'CHILE': 'SA',\n",
       " 'CHINA': 'Asia',\n",
       " 'COLOMBIA': 'SA',\n",
       " 'COMOROS': 'Africa',\n",
       " 'CONGO': 'Africa',\n",
       " 'CONGO DRC': 'Africa',\n",
       " 'COOK ISLANDS': 'Oceania',\n",
       " 'COSTA RICA': 'NA',\n",
       " 'CROATIA': 'Europe',\n",
       " 'CUBA': 'NA',\n",
       " 'CURACAO': 'SA',\n",
       " 'CYPRUS': 'Europe',\n",
       " 'CZECH REPUBLIC': 'Europe',\n",
       " \"CÔTE D'IVOIRE\": 'Africa',\n",
       " 'DENMARK': 'Europe',\n",
       " 'DJIBOUTI': 'Africa',\n",
       " 'DOMINICA': 'Africa',\n",
       " 'DOMINICAN REPUBLIC': 'NA',\n",
       " 'ECUADOR': 'SA',\n",
       " 'EGYPT': 'Africa',\n",
       " 'EL SALVADOR': 'NA',\n",
       " 'EQUATORIAL GUINEA': 'Africa',\n",
       " 'ERITREA': 'Africa',\n",
       " 'ESTONIA': 'Europe',\n",
       " 'ETHIOPIA': 'Africa',\n",
       " 'FALKLAND ISLANDS': 'SA',\n",
       " 'FAROE ISLANDS': 'Europe',\n",
       " 'FIJI': 'Oceania',\n",
       " 'FINLAND': 'Europe',\n",
       " 'FRANCE': 'Europe',\n",
       " 'FRENCH GUIANA': 'SA',\n",
       " 'FRENCH POLYNESIA': 'Oceania',\n",
       " 'GABON': 'Africa',\n",
       " 'GAMBIA': 'Africa',\n",
       " 'GEORGIA': 'Europe',\n",
       " 'GERMANY': 'Europe',\n",
       " 'GHANA': 'Africa',\n",
       " 'GIBRALTAR': 'Europe',\n",
       " 'GREECE': 'Europe',\n",
       " 'GREENLAND': 'Europe',\n",
       " 'GRENADA': 'NA',\n",
       " 'GUADELOUPE': 'NA',\n",
       " 'GUATEMALA': 'NA',\n",
       " 'GUINEA': 'Africa',\n",
       " 'GUINEA-BISSAU': 'Africa',\n",
       " 'GUYANA': 'SA',\n",
       " 'HAITI': 'NA',\n",
       " 'HONDURAS': 'NA',\n",
       " 'HUNGARY': 'Europe',\n",
       " 'ICELAND': 'Europe',\n",
       " 'INDIA': 'Asia',\n",
       " 'INDONESIA': 'Asia',\n",
       " 'IRAN': 'Asia',\n",
       " 'IRAQ': 'Asia',\n",
       " 'IRELAND': 'Europe',\n",
       " 'ISRAEL': 'Asia',\n",
       " 'ITALY': 'Europe',\n",
       " 'JAMAICA': 'NA',\n",
       " 'JAPAN': 'Asia',\n",
       " 'JORDAN': 'Asia',\n",
       " 'KAZAKHSTAN': 'Asia',\n",
       " 'KENYA': 'Africa',\n",
       " 'KIRIBATI': 'Oceania',\n",
       " 'KUWAIT': 'Asia',\n",
       " 'KYRGYZSTAN': 'Asia',\n",
       " 'LAOS': 'Asia',\n",
       " 'LATVIA': 'Europe',\n",
       " 'LEBANON': 'Asia',\n",
       " 'LESOTHO': 'Africa',\n",
       " 'LIBERIA': 'Africa',\n",
       " 'LIBYA': 'Africa',\n",
       " 'LIECHTENSTEIN': 'Europe',\n",
       " 'LITHUANIA': 'Europe',\n",
       " 'LUXEMBOURG': 'Europe',\n",
       " 'MADAGASCAR': 'Africa',\n",
       " 'MALAWI': 'Africa',\n",
       " 'MALAYSIA': 'Asia',\n",
       " 'MALDIVES': 'Asia',\n",
       " 'MALI': 'Africa',\n",
       " 'MALTA': 'Europe',\n",
       " 'MARSHALL ISLANDS': 'Oceania',\n",
       " 'MARTINIQUE': 'NA',\n",
       " 'MAURITANIA': 'Africa',\n",
       " 'MAURITIUS': 'Africa',\n",
       " 'MEXICO': 'NA',\n",
       " 'MICRONESIA': 'Oceania',\n",
       " 'MOLDOVA': 'Europe',\n",
       " 'MONGOLIA': 'Asia',\n",
       " 'MONTENEGRO': 'Europe',\n",
       " 'MONTSERRAT': 'NA',\n",
       " 'MOROCCO': 'Africa',\n",
       " 'MOZAMBIQUE': 'Africa',\n",
       " 'MYANMAR': 'Asia',\n",
       " 'NAMIBIA': 'Africa',\n",
       " 'NAURU': 'Oceania',\n",
       " 'NEPAL': 'Asia',\n",
       " 'NETHERLANDS': 'Europe',\n",
       " 'NEW CALEDONIA': 'Oceania',\n",
       " 'NEW ZEALAND': 'Oceania',\n",
       " 'NICARAGUA': 'Africa',\n",
       " 'NIGER': 'Africa',\n",
       " 'NIGERIA': 'Africa',\n",
       " 'NIUE': 'Oceania',\n",
       " 'NORTH KOREA': 'Asia',\n",
       " 'NORWAY': 'Europe',\n",
       " 'OMAN': 'Asia',\n",
       " 'PAKISTAN': 'Asia',\n",
       " 'PALAU': 'Oceania',\n",
       " 'PALESTINIAN TERRITORY': 'Asia',\n",
       " 'PANAMA': 'NA',\n",
       " 'PAPUA NEW GUINEA': 'Oceania',\n",
       " 'PARAGUAY': 'SA',\n",
       " 'PERU': 'SA',\n",
       " 'PHILIPPINES': 'Asia',\n",
       " 'POLAND': 'Europe',\n",
       " 'PORTUGAL': 'Europe',\n",
       " 'QATAR': 'Asia',\n",
       " 'ROMANIA': 'Europe',\n",
       " 'RUSSIAN FEDERATION': 'Asia',\n",
       " 'RWANDA': 'Africa',\n",
       " 'RÉUNION': 'Africa',\n",
       " 'SAINT HELENA': 'Africa',\n",
       " 'SAINT KITTS AND NEVIS': 'NA',\n",
       " 'SAINT LUCIA': 'NA',\n",
       " 'SAINT MARTIN': 'NA',\n",
       " 'SAINT PIERRE AND MIQUELON': 'NA',\n",
       " 'SAINT VINCENT AND THE GRENADINES': 'NA',\n",
       " 'SAMOA': 'Oceania',\n",
       " 'SAO TOME AND PRINCIPE': 'Africa',\n",
       " 'SAUDI ARABIA': 'Asia',\n",
       " 'SENEGAL': 'Africa',\n",
       " 'SERBIA': 'Europe',\n",
       " 'SEYCHELLES': 'Africa',\n",
       " 'SIERRA LEONE': 'Africa',\n",
       " 'SINGAPORE': 'Asia',\n",
       " 'SLOVAKIA': 'Europe',\n",
       " 'SLOVENIA': 'Europe',\n",
       " 'SOLOMON ISLANDS': 'Oceania',\n",
       " 'SOMALIA': 'Africa',\n",
       " 'SOUTH AFRICA': 'Africa',\n",
       " 'SOUTH KOREA': 'Asia',\n",
       " 'SOUTH SUDAN': 'Africa',\n",
       " 'SPAIN': 'Europe',\n",
       " 'SRI LANKA': 'Asia',\n",
       " 'SUDAN': 'Africa',\n",
       " 'SURINAME': 'SA',\n",
       " 'SWEDEN': 'Europe',\n",
       " 'SWITZERLAND': 'Europe',\n",
       " 'SYRIA': 'Asia',\n",
       " 'TAJIKISTAN': 'Asia',\n",
       " 'TANZANIA': 'Africa',\n",
       " 'THAILAND': 'Asia',\n",
       " 'TIMOR-LESTE': 'Asia',\n",
       " 'TOGO': 'Africa',\n",
       " 'TONGA': 'Africa',\n",
       " 'TRINIDAD AND TOBAGO': 'NA',\n",
       " 'TUNISIA': 'Africa',\n",
       " 'TURKIYE': 'Europe',\n",
       " 'TURKMENISTAN': 'Asia',\n",
       " 'TURKS AND CAICOS ISLANDS': 'NA',\n",
       " 'TUVALU': 'Oceania',\n",
       " 'UGANDA': 'Africa',\n",
       " 'UKRAINE': 'Europe',\n",
       " 'UNITED ARAB EMIRATES': 'Asia',\n",
       " 'UNITED KINGDOM': 'Europe',\n",
       " 'UNITED STATES': 'NA',\n",
       " 'URUGUAY': 'SA',\n",
       " 'UZBEKISTAN': 'Asia',\n",
       " 'VANUATU': 'Oceania',\n",
       " 'VENEZUELA': 'SA',\n",
       " 'VIETNAM': 'Asia',\n",
       " 'WALLIS AND FUTUNA': 'Oceania',\n",
       " 'YEMEN': 'Asia',\n",
       " 'ZAMBIA': 'Africa',\n",
       " 'ZIMBABWE': 'Africa'}"
      ]
     },
     "execution_count": 72,
     "metadata": {},
     "output_type": "execute_result"
    }
   ],
   "source": [
    "my_file = open(\"continent_list.txt\", \"r\")\n",
    "continent_list_temp = my_file.read()\n",
    "continent_list =  continent_list_temp.split('\\n')\n",
    "country_continent_dict={}\n",
    "index = 0\n",
    "for country in emissions_list_of_countries_filtered:\n",
    "    country_continent_dict[country] = continent_list[index]\n",
    "    index +=1\n",
    "country_continent_dict"
   ]
  },
  {
   "cell_type": "markdown",
   "metadata": {
    "id": "8UOy0xuP-pKl"
   },
   "source": [
    "Now we add a continent column to our emissions_data dataframe, using the dict we previously created:"
   ]
  },
  {
   "cell_type": "code",
   "execution_count": 73,
   "metadata": {
    "id": "-Q-kL31z-ssV"
   },
   "outputs": [
    {
     "data": {
      "text/plain": [
       "array(['Asia', 'Europe', 'Africa', 'NA', 'AA', 'SA', 'Oceania'],\n",
       "      dtype=object)"
      ]
     },
     "execution_count": 73,
     "metadata": {},
     "output_type": "execute_result"
    }
   ],
   "source": [
    "temp_cont_list=[]\n",
    "for country in emissions_data['Country']:\n",
    "    temp_cont_list.append(country_continent_dict[country])\n",
    "temp_cont_list\n",
    "emissions_data['Continent'] = temp_cont_list\n",
    "emissions_data['Continent'].unique()"
   ]
  },
  {
   "cell_type": "markdown",
   "metadata": {
    "id": "hg7xhOgz-vw2"
   },
   "source": [
    "We will groupby the year we are interested in (2005) and continents. Then we apply the sum function:"
   ]
  },
  {
   "cell_type": "code",
   "execution_count": 74,
   "metadata": {
    "id": "cFJBi5x4-sgS"
   },
   "outputs": [],
   "source": [
    "temp =emissions_data[emissions_data[\"Year\"] == 2005]\n",
    "temp = temp[[\"Year\",'Country','Continent','Total']]\n",
    "temp1 = temp[temp[\"Year\"] == 2005].groupby(['Year', 'Continent']).sum()"
   ]
  },
  {
   "cell_type": "code",
   "execution_count": 75,
   "metadata": {
    "id": "eDXlzmGa-1wl"
   },
   "outputs": [],
   "source": [
    "dict_2005_continent_sums={}\n",
    "index = 0 \n",
    "for ind in temp1.index:\n",
    "    dict_2005_continent_sums[temp1.index[index][1]]= temp1.values[index][0]\n",
    "    index +=1"
   ]
  },
  {
   "cell_type": "code",
   "execution_count": 76,
   "metadata": {
    "id": "ucuoKxA4_AFM"
   },
   "outputs": [
    {
     "data": {
      "text/plain": [
       "{'AA': 2,\n",
       " 'Africa': 288858,\n",
       " 'Asia': 3687911,\n",
       " 'Europe': 1307136,\n",
       " 'NA': 1898736,\n",
       " 'Oceania': 107586,\n",
       " 'SA': 242735}"
      ]
     },
     "execution_count": 76,
     "metadata": {},
     "output_type": "execute_result"
    }
   ],
   "source": [
    "dict_2005_continent_sums"
   ]
  },
  {
   "cell_type": "markdown",
   "metadata": {
    "id": "QcEV-S_C_C1W"
   },
   "source": [
    "We create a DF for 2005 to plot. In the value column, countries will have the sum for their respective continents."
   ]
  },
  {
   "cell_type": "code",
   "execution_count": 77,
   "metadata": {
    "id": "bVLyinzg_ELr"
   },
   "outputs": [],
   "source": [
    "df_2005 = pd.DataFrame(columns=['Country','Continent','Value'])"
   ]
  },
  {
   "cell_type": "code",
   "execution_count": 78,
   "metadata": {
    "id": "njGxTPxR_JEO"
   },
   "outputs": [],
   "source": [
    "index=0\n",
    "for country in temp['Country'].unique():\n",
    "    df_2005.loc[len(df_2005.index)] = [country.upper(), country_continent_dict[country.upper()], dict_2005_continent_sums[country_continent_dict[country.upper()]]]\n",
    "    index+=1"
   ]
  },
  {
   "cell_type": "markdown",
   "metadata": {
    "id": "8l9UKpVn_WF2"
   },
   "source": [
    "Need to remove the countries in the map dataset that we do not have emissions data for (we did the inverse of this previously)."
   ]
  },
  {
   "cell_type": "code",
   "execution_count": 79,
   "metadata": {
    "id": "BweEF4hP_aD-"
   },
   "outputs": [],
   "source": [
    "missing_list1=[]\n",
    "temp1 = list(df_2005['Country'])\n",
    "map__2005_df= map_df.copy(deep=True)\n",
    "\n",
    "for country in map__2005_df['COUNTRY']:\n",
    "    if country.upper() not in temp1:\n",
    "        missing_list1.append(country)\n",
    "missing_list1\n",
    "map__2005_df = map__2005_df[~map__2005_df.COUNTRY.isin(missing_list1)]\n"
   ]
  },
  {
   "cell_type": "markdown",
   "metadata": {
    "id": "PG-yEPgl_98q"
   },
   "source": [
    "Lastly we add the values column to the map dataframe to create a specific map df for the data we want to plot. In this case, continent aggregated emissions data for 2005:\n"
   ]
  },
  {
   "cell_type": "code",
   "execution_count": 81,
   "metadata": {
    "id": "-HNyRN4GAhSm"
   },
   "outputs": [
    {
     "data": {
      "text/plain": [
       "<AxesSubplot:>"
      ]
     },
     "execution_count": 81,
     "metadata": {},
     "output_type": "execute_result"
    },
    {
     "data": {
      "image/png": "[encoded data removed]",
      "text/plain": [
       "<Figure size 432x288 with 2 Axes>"
      ]
     },
     "metadata": {
      "needs_background": "light"
     },
     "output_type": "display_data"
    }
   ],
   "source": [
    "columntoadd=[]\n",
    "index = 0 \n",
    "for country in map__2005_df['COUNTRY']:\n",
    "    columntoadd.append(df_2005.loc[df_2005.Country==country.upper(),'Value'].values[0])\n",
    "\n",
    "map__2005_df['Values'] = columntoadd\n",
    "map__2005_df\n",
    "map__2005_df.plot(column=\"Values\", cmap=\"Blues\", legend=True)"
   ]
  },
  {
   "cell_type": "markdown",
   "metadata": {
    "id": "xRkfuHxGAoAy"
   },
   "source": [
    "We can do the same operation to get country specific data for all countries in Asia for 2005:"
   ]
  },
  {
   "cell_type": "code",
   "execution_count": 83,
   "metadata": {
    "id": "Ki1cmSeGAvWz"
   },
   "outputs": [
    {
     "data": {
      "text/plain": [
       "<AxesSubplot:>"
      ]
     },
     "execution_count": 83,
     "metadata": {},
     "output_type": "execute_result"
    },
    {
     "data": {
      "image/png": "[encoded data removed]",
      "text/plain": [
       "<Figure size 432x288 with 2 Axes>"
      ]
     },
     "metadata": {
      "needs_background": "light"
     },
     "output_type": "display_data"
    }
   ],
   "source": [
    "# The following 2 lines get data for countries in Asia, for the year 2005\n",
    "temp =emissions_data[emissions_data[\"Continent\"] == 'Asia']\n",
    "asia_2005 = temp[temp[\"Year\"] == 2005]\n",
    "\n",
    "missing_list1=[]\n",
    "temp1 = list(asia_2005['Country'])\n",
    "map_asia_2005_df= map_df.copy(deep=True)\n",
    "\n",
    "# We remove any countries in the map df not in our Asia 2005 DF \n",
    "\n",
    "for country in map_asia_2005_df['COUNTRY']:\n",
    "    if country.upper() not in temp1:\n",
    "        missing_list1.append(country)\n",
    "missing_list1\n",
    "map_asia_2005_df = map_asia_2005_df[~map_asia_2005_df.COUNTRY.isin(missing_list1)]\n",
    "columntoadd=[]\n",
    "index = 0 \n",
    "\n",
    "# We extract the 'Total' column from our emission \n",
    "\n",
    "for country in map_asia_2005_df['COUNTRY']:\n",
    "    columntoadd.append(asia_2005.loc[asia_2005.Country==country.upper(),'Total'].values[0])\n",
    "\n",
    "map_asia_2005_df['Total'] = columntoadd\n",
    "map_asia_2005_df\n",
    "\n",
    "map_asia_2005_df = map_asia_2005_df[~map_asia_2005_df.COUNTRY.isin(['Russian Federation','China'])]\n",
    "map_asia_2005_df\n",
    "map_asia_2005_df.plot(column=\"Total\", cmap=\"summer\", legend=True)"
   ]
  },
  {
   "cell_type": "markdown",
   "metadata": {
    "id": "FWYEcZNyA7G4"
   },
   "source": [
    "We can do the same operation to get country specific data for all countries in Europe for 2005:"
   ]
  },
  {
   "cell_type": "code",
   "execution_count": 85,
   "metadata": {
    "colab": {
     "base_uri": "https://localhost:8080/",
     "height": 265
    },
    "id": "IuYR0nvDBBBM",
    "outputId": "d653c46c-840e-49d7-9db3-488231a1c4e2"
   },
   "outputs": [
    {
     "data": {
      "text/plain": [
       "<AxesSubplot:>"
      ]
     },
     "execution_count": 85,
     "metadata": {},
     "output_type": "execute_result"
    },
    {
     "data": {
      "image/png": "[encoded data removed]",
      "text/plain": [
       "<Figure size 432x288 with 2 Axes>"
      ]
     },
     "metadata": {
      "needs_background": "light"
     },
     "output_type": "display_data"
    }
   ],
   "source": [
    "# The following 2 lines get data for countries in Europe, for the year 2005\n",
    "temp =emissions_data[emissions_data[\"Continent\"] == 'Europe']\n",
    "europe_2005 = temp[temp[\"Year\"] == 2005]\n",
    "\n",
    "missing_list1=[]\n",
    "temp1 = list(europe_2005['Country'])\n",
    "map_europe_2005_df= map_df.copy(deep=True)\n",
    "\n",
    "# We remove any countries in the map df not in our Europe 2005 DF \n",
    "\n",
    "for country in map_europe_2005_df['COUNTRY']:\n",
    "    if country.upper() not in temp1:\n",
    "        missing_list1.append(country)\n",
    "missing_list1\n",
    "map_europe_2005_df = map_europe_2005_df[~map_europe_2005_df.COUNTRY.isin(missing_list1)]\n",
    "\n",
    "columntoadd=[]\n",
    "index = 0 \n",
    "for country in map_europe_2005_df['COUNTRY']:\n",
    "    columntoadd.append(europe_2005.loc[europe_2005.Country==country.upper(),'Total'].values[0])\n",
    "\n",
    "# We extract the 'Total' column from our emission \n",
    "map_europe_2005_df['Total'] = columntoadd\n",
    "map_europe_2005_df = map_europe_2005_df[~map_europe_2005_df.COUNTRY.isin(['Greenland'])]\n",
    "map_europe_2005_df\n",
    "map_europe_2005_df.plot(column=\"Total\", cmap=\"summer\", legend=True)"
   ]
  },
  {
   "cell_type": "code",
   "execution_count": 86,
   "metadata": {
    "colab": {
     "base_uri": "https://localhost:8080/"
    },
    "id": "DkKhLZC-O6BL",
    "outputId": "705d8887-88b4-4058-fff0-14063ca6a025"
   },
   "outputs": [
    {
     "data": {
      "text/plain": [
       "geopandas.geodataframe.GeoDataFrame"
      ]
     },
     "execution_count": 86,
     "metadata": {},
     "output_type": "execute_result"
    }
   ],
   "source": [
    "type(map_europe_2005_df)"
   ]
  },
  {
   "cell_type": "code",
   "execution_count": 87,
   "metadata": {
    "colab": {
     "base_uri": "https://localhost:8080/",
     "height": 206
    },
    "id": "9gOjPJ0bPF_5",
    "outputId": "4eb985fa-e372-49ed-9dd7-fc8513dbdb3b"
   },
   "outputs": [
    {
     "data": {
      "text/html": [
       "<div>\n",
       "<style scoped>\n",
       "    .dataframe tbody tr th:only-of-type {\n",
       "        vertical-align: middle;\n",
       "    }\n",
       "\n",
       "    .dataframe tbody tr th {\n",
       "        vertical-align: top;\n",
       "    }\n",
       "\n",
       "    .dataframe thead th {\n",
       "        text-align: right;\n",
       "    }\n",
       "</style>\n",
       "<table border=\"1\" class=\"dataframe\">\n",
       "  <thead>\n",
       "    <tr style=\"text-align: right;\">\n",
       "      <th></th>\n",
       "      <th>FID</th>\n",
       "      <th>COUNTRY</th>\n",
       "      <th>ISO</th>\n",
       "      <th>COUNTRYAFF</th>\n",
       "      <th>AFF_ISO</th>\n",
       "      <th>SHAPE_Leng</th>\n",
       "      <th>SHAPE_Area</th>\n",
       "      <th>geometry</th>\n",
       "      <th>Total</th>\n",
       "    </tr>\n",
       "  </thead>\n",
       "  <tbody>\n",
       "    <tr>\n",
       "      <th>1</th>\n",
       "      <td>2</td>\n",
       "      <td>Albania</td>\n",
       "      <td>AL</td>\n",
       "      <td>Albania</td>\n",
       "      <td>AL</td>\n",
       "      <td>9.625038</td>\n",
       "      <td>3.073540</td>\n",
       "      <td>POLYGON ((19.57083 41.68527, 19.58195 41.69569...</td>\n",
       "      <td>1160</td>\n",
       "    </tr>\n",
       "    <tr>\n",
       "      <th>4</th>\n",
       "      <td>5</td>\n",
       "      <td>Andorra</td>\n",
       "      <td>AD</td>\n",
       "      <td>Andorra</td>\n",
       "      <td>AD</td>\n",
       "      <td>0.937352</td>\n",
       "      <td>0.055585</td>\n",
       "      <td>POLYGON ((1.44584 42.60194, 1.48653 42.65042, ...</td>\n",
       "      <td>157</td>\n",
       "    </tr>\n",
       "    <tr>\n",
       "      <th>10</th>\n",
       "      <td>11</td>\n",
       "      <td>Armenia</td>\n",
       "      <td>AM</td>\n",
       "      <td>Armenia</td>\n",
       "      <td>AM</td>\n",
       "      <td>12.161117</td>\n",
       "      <td>3.142291</td>\n",
       "      <td>MULTIPOLYGON (((46.54037 38.87559, 46.51639 38...</td>\n",
       "      <td>1187</td>\n",
       "    </tr>\n",
       "    <tr>\n",
       "      <th>13</th>\n",
       "      <td>14</td>\n",
       "      <td>Austria</td>\n",
       "      <td>AT</td>\n",
       "      <td>Austria</td>\n",
       "      <td>AT</td>\n",
       "      <td>22.067937</td>\n",
       "      <td>10.039441</td>\n",
       "      <td>POLYGON ((10.47124 46.87135, 10.48821 46.93599...</td>\n",
       "      <td>20239</td>\n",
       "    </tr>\n",
       "    <tr>\n",
       "      <th>20</th>\n",
       "      <td>21</td>\n",
       "      <td>Belarus</td>\n",
       "      <td>BY</td>\n",
       "      <td>Belarus</td>\n",
       "      <td>BY</td>\n",
       "      <td>31.668548</td>\n",
       "      <td>28.157809</td>\n",
       "      <td>POLYGON ((25.54667 51.92214, 25.43999 51.92222...</td>\n",
       "      <td>16135</td>\n",
       "    </tr>\n",
       "  </tbody>\n",
       "</table>\n",
       "</div>"
      ],
      "text/plain": [
       "    FID  COUNTRY ISO COUNTRYAFF AFF_ISO  SHAPE_Leng  SHAPE_Area  \\\n",
       "1     2  Albania  AL    Albania      AL    9.625038    3.073540   \n",
       "4     5  Andorra  AD    Andorra      AD    0.937352    0.055585   \n",
       "10   11  Armenia  AM    Armenia      AM   12.161117    3.142291   \n",
       "13   14  Austria  AT    Austria      AT   22.067937   10.039441   \n",
       "20   21  Belarus  BY    Belarus      BY   31.668548   28.157809   \n",
       "\n",
       "                                             geometry  Total  \n",
       "1   POLYGON ((19.57083 41.68527, 19.58195 41.69569...   1160  \n",
       "4   POLYGON ((1.44584 42.60194, 1.48653 42.65042, ...    157  \n",
       "10  MULTIPOLYGON (((46.54037 38.87559, 46.51639 38...   1187  \n",
       "13  POLYGON ((10.47124 46.87135, 10.48821 46.93599...  20239  \n",
       "20  POLYGON ((25.54667 51.92214, 25.43999 51.92222...  16135  "
      ]
     },
     "execution_count": 87,
     "metadata": {},
     "output_type": "execute_result"
    }
   ],
   "source": [
    "map_europe_2005_df.head()"
   ]
  },
  {
   "cell_type": "markdown",
   "metadata": {
    "id": "a4q3ipxumW9-"
   },
   "source": [
    "##Initial Visualizations"
   ]
  },
  {
   "cell_type": "markdown",
   "metadata": {
    "id": "7LTVrEVhYwPK"
   },
   "source": [
    "###The first visualization is a snapshot of the emissions by country in Europe in 2005. We will see how this changes throughout the time frame we have established, find out the largest increases+decreases in emissions, and also break this down by industry. "
   ]
  },
  {
   "cell_type": "code",
   "execution_count": 88,
   "metadata": {
    "colab": {
     "base_uri": "https://localhost:8080/"
    },
    "id": "hjszwjWvPQRI",
    "outputId": "2236ed1a-220f-438b-bf35-cf8be652d8e7"
   },
   "outputs": [
    {
     "data": {
      "text/plain": [
       "count        42.000000\n",
       "mean      31118.333333\n",
       "std       47685.575022\n",
       "min         109.000000\n",
       "25%        2322.500000\n",
       "50%       12358.000000\n",
       "75%       28920.500000\n",
       "max      217393.000000\n",
       "Name: Total, dtype: float64"
      ]
     },
     "execution_count": 88,
     "metadata": {},
     "output_type": "execute_result"
    }
   ],
   "source": [
    "map_europe_2005_df.Total.describe()"
   ]
  },
  {
   "cell_type": "code",
   "execution_count": 89,
   "metadata": {
    "colab": {
     "base_uri": "https://localhost:8080/"
    },
    "id": "eiqN7dyJOyk1",
    "outputId": "1af3cd53-5931-4774-85f7-865b9c495ee3"
   },
   "outputs": [
    {
     "data": {
      "text/plain": [
       "1      0-2300\n",
       "4      0-2300\n",
       "10     0-2300\n",
       "13    13k-30k\n",
       "20    13k-30k\n",
       "Name: new_group, dtype: category\n",
       "Categories (6, object): ['0-2300' < '2.3k-13k' < '13k-30k' < '30k-100k' < '100k-200k' < '>200k']"
      ]
     },
     "execution_count": 89,
     "metadata": {},
     "output_type": "execute_result"
    }
   ],
   "source": [
    "map_europe_2005_df['new_group']= pd.cut(map_europe_2005_df['Total'],  \n",
    "                                        bins=[0,2300,13000,30000,100000,200000,np.inf],  \n",
    "                                        labels=['0-2300','2.3k-13k','13k-30k','30k-100k','100k-200k','>200k'])\n",
    "map_europe_2005_df['new_group'][0:5]"
   ]
  },
  {
   "cell_type": "code",
   "execution_count": 90,
   "metadata": {
    "colab": {
     "base_uri": "https://localhost:8080/",
     "height": 675
    },
    "id": "b6SuCDxlPrIr",
    "outputId": "036b9202-bbbc-44e5-d96b-d2594fc6c2d0"
   },
   "outputs": [
    {
     "data": {
      "text/plain": [
       "[Text(0.5, 69.0, 'Latitude'),\n",
       " Text(394.31836426715165, 0.5, 'Longitude'),\n",
       " Text(0.5, 1.0, 'Million metric tons of CO2 emission per European country in 2005')]"
      ]
     },
     "execution_count": 90,
     "metadata": {},
     "output_type": "execute_result"
    },
    {
     "data": {
      "image/png": "[encoded data removed]",
      "text/plain": [
       "<Figure size 1440x720 with 1 Axes>"
      ]
     },
     "metadata": {
      "needs_background": "light"
     },
     "output_type": "display_data"
    }
   ],
   "source": [
    "fig = map_europe_2005_df.plot(column=\"new_group\", cmap=\"summer\", legend=True, figsize=(20, 10))\n",
    "fig.set(xlabel='Latitude', ylabel='Longitude', title='Million metric tons of CO2 emission per European country in 2005')"
   ]
  },
  {
   "cell_type": "markdown",
   "metadata": {
    "id": "tPHv2qwvZJHC"
   },
   "source": [
    "### The following is a box plot for the filtered sea level data from 2005 to 2014, which has a minimum value of 38 and a maximum value of 76."
   ]
  },
  {
   "cell_type": "code",
   "execution_count": 91,
   "metadata": {
    "colab": {
     "base_uri": "https://localhost:8080/",
     "height": 337
    },
    "id": "0gr_Zn_UmbS6",
    "outputId": "f91b10b5-fe2f-4069-f814-f5a009ea1f04"
   },
   "outputs": [
    {
     "data": {
      "text/plain": [
       "<AxesSubplot:>"
      ]
     },
     "execution_count": 91,
     "metadata": {},
     "output_type": "execute_result"
    },
    {
     "data": {
      "image/png": "[encoded data removed]",
      "text/plain": [
       "<Figure size 504x360 with 1 Axes>"
      ]
     },
     "metadata": {
      "needs_background": "light"
     },
     "output_type": "display_data"
    }
   ],
   "source": [
    "#ploting the box plot for the filtered data\n",
    "sea_filter2['GMSL'].plot(kind='box', figsize=(7,5))"
   ]
  },
  {
   "cell_type": "markdown",
   "metadata": {
    "id": "onPEu47uc3cT"
   },
   "source": [
    "The temperature data of each year is the average mean teamperature anomalies in degree Celcius relative to the base period. GISTEMP base period: 1951-1980. GCAG base period: 20th century average. To avoid the fluctuation blurring the whole picture, the graph is plotted smoother line. "
   ]
  },
  {
   "cell_type": "code",
   "execution_count": 102,
   "metadata": {
    "colab": {
     "base_uri": "https://localhost:8080/",
     "height": 296
    },
    "id": "032pzBWMW3gO",
    "outputId": "e9fd57c1-df21-4559-9093-a3e8960b605c"
   },
   "outputs": [
    {
     "data": {
      "text/plain": [
       "<AxesSubplot:xlabel='Year', ylabel='Year_Roll'>"
      ]
     },
     "execution_count": 102,
     "metadata": {},
     "output_type": "execute_result"
    },
    {
     "data": {
      "image/png": "[encoded data removed]",
      "text/plain": [
       "<Figure size 432x288 with 1 Axes>"
      ]
     },
     "metadata": {
      "needs_background": "light"
     },
     "output_type": "display_data"
    }
   ],
   "source": [
    "Temp['Year_Roll'] = Temp['Temperature'].rolling(10).sum()\n",
    "sns.lineplot(x='Year', y='Year_Roll', data=Temp, hue='Type')"
   ]
  },
  {
   "cell_type": "code",
   "execution_count": 104,
   "metadata": {
    "colab": {
     "base_uri": "https://localhost:8080/",
     "height": 567
    },
    "id": "4P_U5MAXNows",
    "outputId": "77a87783-ecea-48ea-cc19-08130bdeba6c"
   },
   "outputs": [
    {
     "data": {
      "text/plain": [
       "[Text(0, 0.5, 'Value of Emissions'),\n",
       " Text(0.5, 0, 'Year'),\n",
       " Text(0.5, 1.0, 'EU Total Emissions Over 2005-2014')]"
      ]
     },
     "execution_count": 104,
     "metadata": {},
     "output_type": "execute_result"
    },
    {
     "data": {
      "image/png": "[encoded data removed]",
      "text/plain": [
       "<Figure size 432x288 with 1 Axes>"
      ]
     },
     "metadata": {
      "needs_background": "light"
     },
     "output_type": "display_data"
    }
   ],
   "source": [
    "fig = sns.lineplot(x='year', y='value', data=euETS)\n",
    "fig.set(ylabel = 'Value of Emissions', xlabel = 'Year', title='EU Total Emissions Over 2005-2014')"
   ]
  },
  {
   "cell_type": "markdown",
   "metadata": {
    "id": "PlCEkmAFmcJU"
   },
   "source": [
    "##Refined Questions w/ Summary Statistics"
   ]
  },
  {
   "cell_type": "markdown",
   "metadata": {
    "id": "CW6sUgYvmi9l"
   },
   "source": [
    "1. How do European countries compare with global emission levels?\n",
    "   - We intend to show the European countries immension levels vis-a-vis\n",
    "     global emissionss level. The initial data and graph would have global\n",
    "     emisions ploted continent wise, then we would zoom in to the data\n",
    "     European data to have the visualisation of the major emitters in the\n",
    "     region.\n",
    " \n",
    "2. Which European countries have reduced emissions the most and by how much?\n",
    "   - In this question, we will capture the reduction of the emissions\n",
    "     country wise and plot the top 10 counties whch have successfully\n",
    "     reduced their emissions.\n",
    " \n",
    "3. Which sectors have reduced emissions the most?\n",
    "   - Through this question, we intend to capture the emissions sector-wise\n",
    "     in Europe and their reductions during the analysis period.\n",
    " \n",
    "4. How are emissions across Europe impacted by global targets to fight\n",
    "   climate change?\n",
    "   - We will visualize the targets that are highlighted in various\n",
    "     agreements (Kyoto, Paris, etc..) and analyze how well countries are\n",
    "     meeting them. Are European countries on track to meet the latest\n",
    "     climate targets?"
   ]
  },
  {
   "cell_type": "markdown",
   "metadata": {
    "id": "8eJgPAxbUvcB"
   },
   "source": [
    "###Now we are getting summary statistics to our questions:"
   ]
  },
  {
   "cell_type": "markdown",
   "metadata": {
    "id": "oqXFcb0vUiHq"
   },
   "source": [
    "1. How do European countries compare with global emission levels?"
   ]
  },
  {
   "cell_type": "markdown",
   "metadata": {
    "id": "3Gp6vDU2U2cG"
   },
   "source": [
    "For 3 years (2005, 2010, 2014) we will calculate the percentage of global emissions that Europe contributes:"
   ]
  },
  {
   "cell_type": "code",
   "execution_count": 105,
   "metadata": {
    "colab": {
     "base_uri": "https://localhost:8080/"
    },
    "id": "4-JONHwNUkyj",
    "outputId": "2243d36a-fe3b-4dd9-87d0-7e011f2e252f"
   },
   "outputs": [
    {
     "name": "stdout",
     "output_type": "stream",
     "text": [
      "Percentage of Global Emissions Contributed by Europe in 2005:  17.3522 %\n",
      "Percentage of Global Emissions Contributed by Europe in 2010:  14.466399999999998 %\n",
      "Percentage of Global Emissions Contributed by Europe in 2014:  11.99 %\n"
     ]
    }
   ],
   "source": [
    "temp =emissions_data[emissions_data[\"Year\"] == 2005]\n",
    "temp = temp[[\"Year\",'Country','Continent','Total']]\n",
    "temp1 = temp[temp[\"Year\"] == 2005].groupby(['Year', 'Continent']).sum()\n",
    "\n",
    "dict_2005_continent_sums={}\n",
    "index = 0 \n",
    "for ind in temp1.index:\n",
    "    dict_2005_continent_sums[temp1.index[index][1]]= temp1.values[index][0]\n",
    "    index +=1\n",
    "    \n",
    "temp =emissions_data[emissions_data[\"Year\"] == 2010]\n",
    "temp = temp[[\"Year\",'Country','Continent','Total']]\n",
    "temp1 = temp[temp[\"Year\"] == 2010].groupby(['Year', 'Continent']).sum()\n",
    "\n",
    "dict_2010_continent_sums={}\n",
    "index = 0 \n",
    "for ind in temp1.index:\n",
    "    dict_2010_continent_sums[temp1.index[index][1]]= temp1.values[index][0]\n",
    "    index +=1\n",
    " \n",
    "temp =emissions_data[emissions_data[\"Year\"] == 2014]\n",
    "temp = temp[[\"Year\",'Country','Continent','Total']]\n",
    "temp1 = temp[temp[\"Year\"] == 2014].groupby(['Year', 'Continent']).sum()\n",
    "\n",
    "dict_2014_continent_sums={}\n",
    "index = 0 \n",
    "for ind in temp1.index:\n",
    "    dict_2014_continent_sums[temp1.index[index][1]]= temp1.values[index][0]\n",
    "    index +=1\n",
    "type(dict_2010_continent_sums['Europe'])\n",
    "print(\"Percentage of Global Emissions Contributed by Europe in 2005: \", round(dict_2005_continent_sums['Europe']/sum(list(dict_2005_continent_sums.values())),6)*100,'%')\n",
    "print(\"Percentage of Global Emissions Contributed by Europe in 2010: \", round(dict_2010_continent_sums['Europe']/sum(list(dict_2010_continent_sums.values())),6)*100,'%')\n",
    "print(\"Percentage of Global Emissions Contributed by Europe in 2014: \", round(dict_2014_continent_sums['Europe']/sum(list(dict_2014_continent_sums.values())),6)*100,'%')"
   ]
  },
  {
   "cell_type": "markdown",
   "metadata": {
    "id": "_-9xyKDZU7mz"
   },
   "source": [
    "2. Which European countries have reduced emissions the most and by how much?"
   ]
  },
  {
   "cell_type": "markdown",
   "metadata": {
    "id": "P0HbObA5VZgW"
   },
   "source": [
    "For the second summary statistic, we will see which European country has reduced their emissions the most and which the least between 2005 and 2014:"
   ]
  },
  {
   "cell_type": "code",
   "execution_count": 106,
   "metadata": {
    "id": "8qr6fRbcVArp"
   },
   "outputs": [],
   "source": [
    "temp =emissions_data[emissions_data[\"Continent\"] == 'Europe']\n",
    "europe_2014 = temp[temp[\"Year\"] == 2014]\n",
    "europe_2014 = europe_2014[~europe_2014.Country.isin(['BONAIRE','LIECHTENSTEIN','MONTENEGRO','SERBIA'])]\n",
    "europe_2014_list = list(europe_2014['Total'])\n",
    "europe_2005_list =list(europe_2005['Total'])\n",
    "index = 0 \n",
    "diff_list = []\n",
    "diff_dict={}\n",
    "country_list = list(europe_2014['Country'])\n",
    "for val in europe_2014_list:\n",
    "    diff_dict[country_list[index]] = (europe_2014_list[index]-europe_2005_list[index])\n",
    "    index +=1"
   ]
  },
  {
   "cell_type": "code",
   "execution_count": 107,
   "metadata": {
    "colab": {
     "base_uri": "https://localhost:8080/"
    },
    "id": "d71JTBvgVFMR",
    "outputId": "5cc751aa-0b80-41f1-b57a-db7aeafb5496"
   },
   "outputs": [
    {
     "name": "stdout",
     "output_type": "stream",
     "text": [
      "ITALY : -41716 million metric tons of C\n"
     ]
    }
   ],
   "source": [
    "print(min(diff_dict, key=diff_dict.get),':', diff_dict[min(diff_dict, key=diff_dict.get)],'million metric tons of C')"
   ]
  },
  {
   "cell_type": "code",
   "execution_count": 108,
   "metadata": {
    "colab": {
     "base_uri": "https://localhost:8080/"
    },
    "id": "zI6qsCG5Vegv",
    "outputId": "16ac2e88-7672-4329-a653-93400c2a4620"
   },
   "outputs": [
    {
     "name": "stdout",
     "output_type": "stream",
     "text": [
      "TURKIYE : 29613 million metric tons of C\n"
     ]
    }
   ],
   "source": [
    "print(max(diff_dict, key=diff_dict.get),':', diff_dict[max(diff_dict, key=diff_dict.get)],'million metric tons of C')"
   ]
  },
  {
   "cell_type": "markdown",
   "metadata": {
    "id": "sZqDWUmSNbBP"
   },
   "source": [
    "3. Which sectors have reduced emissions the most?"
   ]
  },
  {
   "cell_type": "code",
   "execution_count": 109,
   "metadata": {
    "colab": {
     "base_uri": "https://localhost:8080/",
     "height": 959
    },
    "id": "nPLTNo2FKq6R",
    "outputId": "150771d1-1a5e-41f7-98e5-320adae973f5"
   },
   "outputs": [
    {
     "data": {
      "text/html": [
       "<div>\n",
       "<style scoped>\n",
       "    .dataframe tbody tr th:only-of-type {\n",
       "        vertical-align: middle;\n",
       "    }\n",
       "\n",
       "    .dataframe tbody tr th {\n",
       "        vertical-align: top;\n",
       "    }\n",
       "\n",
       "    .dataframe thead th {\n",
       "        text-align: right;\n",
       "    }\n",
       "</style>\n",
       "<table border=\"1\" class=\"dataframe\">\n",
       "  <thead>\n",
       "    <tr style=\"text-align: right;\">\n",
       "      <th></th>\n",
       "      <th>value</th>\n",
       "      <th>percent(%)</th>\n",
       "    </tr>\n",
       "    <tr>\n",
       "      <th>main_activity_sector_name</th>\n",
       "      <th></th>\n",
       "      <th></th>\n",
       "    </tr>\n",
       "  </thead>\n",
       "  <tbody>\n",
       "    <tr>\n",
       "      <th>10 Aviation</th>\n",
       "      <td>1.015672e+09</td>\n",
       "      <td>1.10</td>\n",
       "    </tr>\n",
       "    <tr>\n",
       "      <th>20 Combustion of fuels</th>\n",
       "      <td>6.188554e+10</td>\n",
       "      <td>66.77</td>\n",
       "    </tr>\n",
       "    <tr>\n",
       "      <th>21  Refining of mineral oil</th>\n",
       "      <td>6.593969e+09</td>\n",
       "      <td>7.11</td>\n",
       "    </tr>\n",
       "    <tr>\n",
       "      <th>22  Production of coke</th>\n",
       "      <td>4.025113e+08</td>\n",
       "      <td>0.43</td>\n",
       "    </tr>\n",
       "    <tr>\n",
       "      <th>23 Metal ore roasting or sintering</th>\n",
       "      <td>2.370005e+08</td>\n",
       "      <td>0.26</td>\n",
       "    </tr>\n",
       "    <tr>\n",
       "      <th>24  Production of pig iron or steel</th>\n",
       "      <td>6.876331e+09</td>\n",
       "      <td>7.42</td>\n",
       "    </tr>\n",
       "    <tr>\n",
       "      <th>25 Production or processing of ferrous metals</th>\n",
       "      <td>2.287253e+08</td>\n",
       "      <td>0.25</td>\n",
       "    </tr>\n",
       "    <tr>\n",
       "      <th>26 Production of primary aluminium</th>\n",
       "      <td>7.907807e+07</td>\n",
       "      <td>0.09</td>\n",
       "    </tr>\n",
       "    <tr>\n",
       "      <th>27 Production of secondary aluminium</th>\n",
       "      <td>9.751631e+06</td>\n",
       "      <td>0.01</td>\n",
       "    </tr>\n",
       "    <tr>\n",
       "      <th>28 Production or processing of non-ferrous metals</th>\n",
       "      <td>7.300599e+07</td>\n",
       "      <td>0.08</td>\n",
       "    </tr>\n",
       "    <tr>\n",
       "      <th>29 Production of cement clinker</th>\n",
       "      <td>7.163713e+09</td>\n",
       "      <td>7.73</td>\n",
       "    </tr>\n",
       "    <tr>\n",
       "      <th>30 Production of lime, or calcination of dolomite/magnesite</th>\n",
       "      <td>1.752504e+09</td>\n",
       "      <td>1.89</td>\n",
       "    </tr>\n",
       "    <tr>\n",
       "      <th>31 Manufacture of glass</th>\n",
       "      <td>9.739465e+08</td>\n",
       "      <td>1.05</td>\n",
       "    </tr>\n",
       "    <tr>\n",
       "      <th>32 Manufacture of ceramics</th>\n",
       "      <td>7.234765e+08</td>\n",
       "      <td>0.78</td>\n",
       "    </tr>\n",
       "    <tr>\n",
       "      <th>33 Manufacture of mineral wool</th>\n",
       "      <td>6.991710e+07</td>\n",
       "      <td>0.08</td>\n",
       "    </tr>\n",
       "    <tr>\n",
       "      <th>34 Production or processing of gypsum or plasterboard</th>\n",
       "      <td>1.621617e+07</td>\n",
       "      <td>0.02</td>\n",
       "    </tr>\n",
       "    <tr>\n",
       "      <th>35 Production of pulp</th>\n",
       "      <td>3.374523e+08</td>\n",
       "      <td>0.36</td>\n",
       "    </tr>\n",
       "    <tr>\n",
       "      <th>36 Production of paper or cardboard</th>\n",
       "      <td>1.387801e+09</td>\n",
       "      <td>1.50</td>\n",
       "    </tr>\n",
       "    <tr>\n",
       "      <th>37 Production of carbon black</th>\n",
       "      <td>3.513343e+07</td>\n",
       "      <td>0.04</td>\n",
       "    </tr>\n",
       "    <tr>\n",
       "      <th>38 Production of nitric acid</th>\n",
       "      <td>1.241438e+08</td>\n",
       "      <td>0.13</td>\n",
       "    </tr>\n",
       "    <tr>\n",
       "      <th>39 Production of adipic acid</th>\n",
       "      <td>4.887004e+06</td>\n",
       "      <td>0.01</td>\n",
       "    </tr>\n",
       "    <tr>\n",
       "      <th>40 Production of glyoxal and glyoxylic acid</th>\n",
       "      <td>7.806600e+04</td>\n",
       "      <td>0.00</td>\n",
       "    </tr>\n",
       "    <tr>\n",
       "      <th>41 Production of ammonia</th>\n",
       "      <td>2.328147e+08</td>\n",
       "      <td>0.25</td>\n",
       "    </tr>\n",
       "    <tr>\n",
       "      <th>42 Production of bulk chemicals</th>\n",
       "      <td>1.563810e+09</td>\n",
       "      <td>1.69</td>\n",
       "    </tr>\n",
       "    <tr>\n",
       "      <th>43 Production of hydrogen and synthesis gas</th>\n",
       "      <td>1.114304e+08</td>\n",
       "      <td>0.12</td>\n",
       "    </tr>\n",
       "    <tr>\n",
       "      <th>44 Production of soda ash and sodium bicarbonate</th>\n",
       "      <td>5.926185e+07</td>\n",
       "      <td>0.06</td>\n",
       "    </tr>\n",
       "    <tr>\n",
       "      <th>45 Capture of greenhouse gases under Directive 2009/31/EC</th>\n",
       "      <td>5.151600e+04</td>\n",
       "      <td>0.00</td>\n",
       "    </tr>\n",
       "    <tr>\n",
       "      <th>99 Other activity opted-in under Art. 24</th>\n",
       "      <td>7.239045e+08</td>\n",
       "      <td>0.78</td>\n",
       "    </tr>\n",
       "  </tbody>\n",
       "</table>\n",
       "</div>"
      ],
      "text/plain": [
       "                                                           value  percent(%)\n",
       "main_activity_sector_name                                                   \n",
       "10 Aviation                                         1.015672e+09        1.10\n",
       "20 Combustion of fuels                              6.188554e+10       66.77\n",
       "21  Refining of mineral oil                         6.593969e+09        7.11\n",
       "22  Production of coke                              4.025113e+08        0.43\n",
       "23 Metal ore roasting or sintering                  2.370005e+08        0.26\n",
       "24  Production of pig iron or steel                 6.876331e+09        7.42\n",
       "25 Production or processing of ferrous metals       2.287253e+08        0.25\n",
       "26 Production of primary aluminium                  7.907807e+07        0.09\n",
       "27 Production of secondary aluminium                9.751631e+06        0.01\n",
       "28 Production or processing of non-ferrous metals   7.300599e+07        0.08\n",
       "29 Production of cement clinker                     7.163713e+09        7.73\n",
       "30 Production of lime, or calcination of dolomi...  1.752504e+09        1.89\n",
       "31 Manufacture of glass                             9.739465e+08        1.05\n",
       "32 Manufacture of ceramics                          7.234765e+08        0.78\n",
       "33 Manufacture of mineral wool                      6.991710e+07        0.08\n",
       "34 Production or processing of gypsum or plaste...  1.621617e+07        0.02\n",
       "35 Production of pulp                               3.374523e+08        0.36\n",
       "36 Production of paper or cardboard                 1.387801e+09        1.50\n",
       "37 Production of carbon black                       3.513343e+07        0.04\n",
       "38 Production of nitric acid                        1.241438e+08        0.13\n",
       "39 Production of adipic acid                        4.887004e+06        0.01\n",
       "40 Production of glyoxal and glyoxylic acid         7.806600e+04        0.00\n",
       "41 Production of ammonia                            2.328147e+08        0.25\n",
       "42 Production of bulk chemicals                     1.563810e+09        1.69\n",
       "43 Production of hydrogen and synthesis gas         1.114304e+08        0.12\n",
       "44 Production of soda ash and sodium bicarbonate    5.926185e+07        0.06\n",
       "45 Capture of greenhouse gases under Directive ...  5.151600e+04        0.00\n",
       "99 Other activity opted-in under Art. 24            7.239045e+08        0.78"
      ]
     },
     "execution_count": 109,
     "metadata": {},
     "output_type": "execute_result"
    }
   ],
   "source": [
    "by_sector = euETS.groupby('main_activity_sector_name').aggregate({'value':'sum'})\n",
    "by_sector = by_sector.drop(['20-99 All stationary installations', '21-99 All industrial installations (excl. combustion)'], axis=0)\n",
    "by_sector['percent(%)'] = round(by_sector / sum(by_sector.values) * 100, 2)\n",
    "by_sector"
   ]
  },
  {
   "cell_type": "markdown",
   "metadata": {
    "id": "vUXhOEsZntC2"
   },
   "source": []
  },
  {
   "cell_type": "markdown",
   "metadata": {
    "id": "GteezZWcmeo4"
   },
   "source": [
    "##References"
   ]
  },
  {
   "cell_type": "markdown",
   "metadata": {
    "id": "RMAbeQlfndvZ"
   },
   "source": [
    "1. Down To Earth: https://www.downtoearth.org.in/climate-change/coplist\n",
    "\n",
    "2. Intergovernmental Panel on Climate Change (IPCC): https://www.ipcc.ch/site/assets/uploads/sites/2/2018/12/SR15_FAQ_Low_Res.pdf\n",
    "\n",
    "3. Rhodium Group; Pathways to Paris: A Policy Assessment of the 2030 US Climate Target: https://rhg.com/research/us-climate-policy-2030/#:~:text=As%20part%20of%20this%20effort,below%202005%20levels%20by%202030.\n",
    "\n",
    "4. United Nations Framework Convention on Climate Change: https://unfccc.int/process/the-convention/history-of-the-convention#Climate-Change-in-context\n",
    "\n",
    "5. Yale Climate Connections; The top 10 global weather and climate change events of 2021: https://yaleclimateconnections.org/2022/01/the-top-10-global-weather-and-climate-change-events-of-2021/\n",
    "\n",
    "6. Stack Overflow\n",
    "\n",
    "7. Geek for Geeks\n",
    "\n",
    "8. Medium.com\n",
    "\n",
    "9. Course material and previous assignments: Prof. GS"
   ]
  }
 ],
 "metadata": {
  "colab": {
   "provenance": []
  },
  "kernelspec": {
   "display_name": "Python 3 (ipykernel)",
   "language": "python",
   "name": "python3"
  },
  "language_info": {
   "codemirror_mode": {
    "name": "ipython",
    "version": 3
   },
   "file_extension": ".py",
   "mimetype": "text/x-python",
   "name": "python",
   "nbconvert_exporter": "python",
   "pygments_lexer": "ipython3",
   "version": "3.9.12"
  }
 },
 "nbformat": 4,
 "nbformat_minor": 1
}
